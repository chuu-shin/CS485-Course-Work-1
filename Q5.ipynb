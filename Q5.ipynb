{
  "cells": [
    {
      "cell_type": "markdown",
      "metadata": {
        "id": "gqaNg22dIQYk"
      },
      "source": [
        "## **Data Load**"
      ]
    },
    {
      "cell_type": "code",
      "execution_count": 9,
      "metadata": {},
      "outputs": [
        {
          "data": {
            "text/plain": [
              "[210.9140625, 206.73046875, 207.90234375, 211.30859375, 215.58984375]"
            ]
          },
          "execution_count": 9,
          "metadata": {},
          "output_type": "execute_result"
        }
      ],
      "source": [
        "from memory_profiler import memory_usage\n",
        "\n",
        "def calculate_squares():\n",
        "    data = [i ** 2 for i in range(1000000)]\n",
        "    del data  # Clear memory after usage\n",
        "\n",
        "memory_usage(calculate_squares)"
      ]
    },
    {
      "cell_type": "code",
      "execution_count": 6,
      "metadata": {
        "colab": {
          "base_uri": "https://localhost:8080/"
        },
        "id": "wipStVJFIJwv",
        "outputId": "fca12254-4d58-461c-a4bb-db5e8abd7589"
      },
      "outputs": [],
      "source": [
        "import scipy.io as sio\n",
        "import numpy as np\n",
        "import matplotlib.pyplot as plt\n",
        "from sklearn.model_selection import train_test_split\n",
        "import timeit\n",
        "import tracemalloc"
      ]
    },
    {
      "cell_type": "code",
      "execution_count": 59,
      "metadata": {
        "colab": {
          "base_uri": "https://localhost:8080/"
        },
        "id": "kvKXTR5vIKod",
        "outputId": "625cd793-f391-4a6f-ae00-424b450ae10a"
      },
      "outputs": [
        {
          "name": "stdout",
          "output_type": "stream",
          "text": [
            "Training set shape: (2576, 416)\n",
            "Test set shape: (2576, 104)\n"
          ]
        }
      ],
      "source": [
        "mat_content = sio.loadmat('assets/face.mat')\n",
        "# mat_content # Let's see the content...\n",
        "\n",
        "face_data = mat_content['X']\n",
        "face_labels = mat_content['l']\n",
        "\n",
        "x_train, x_test, y_train, y_test = [], [], [], []\n",
        "\n",
        "n_classes = 52\n",
        "images_per_class = 10\n",
        "\n",
        "for i in range(n_classes):\n",
        "    start_idx = i * images_per_class\n",
        "    end_idx = start_idx + images_per_class\n",
        "\n",
        "    x_train.append(face_data[:, start_idx:start_idx+8])\n",
        "    x_test.append(face_data[:, start_idx+8:end_idx])\n",
        "\n",
        "    y_train.append(face_labels[:, start_idx:start_idx+8])\n",
        "    y_test.append(face_labels[:, start_idx+8:end_idx])\n",
        "\n",
        "x_train, x_test = np.hstack(x_train), np.hstack(x_test)\n",
        "y_train, y_test = np.hstack(y_train), np.hstack(y_test)\n",
        "\n",
        "x_train = x_train.astype(np.int64)\n",
        "x_test = x_test.astype(np.int64)\n",
        "\n",
        "# Output the shapes of the training and testing sets\n",
        "print(f\"Training set shape: {x_train.shape}\")\n",
        "print(f\"Test set shape: {x_test.shape}\")"
      ]
    },
    {
      "cell_type": "code",
      "execution_count": 40,
      "metadata": {
        "colab": {
          "base_uri": "https://localhost:8080/",
          "height": 450
        },
        "id": "4bgtLmjaIMcl",
        "outputId": "a4e8e000-35c3-4f11-c84b-5e0dd0ec7c65"
      },
      "outputs": [
        {
          "data": {
            "text/plain": [
              "<matplotlib.image.AxesImage at 0x7f8ce946e9a0>"
            ]
          },
          "execution_count": 40,
          "metadata": {},
          "output_type": "execute_result"
        },
        {
          "data": {
            "image/png": "[encoded data removed]",
            "text/plain": [
              "<Figure size 432x288 with 1 Axes>"
            ]
          },
          "metadata": {
            "needs_background": "light"
          },
          "output_type": "display_data"
        }
      ],
      "source": [
        "# show one example image\n",
        "plt.imshow(np.reshape(x_train[:,0],(46,56)).T, cmap = 'gist_gray')"
      ]
    },
    {
      "cell_type": "markdown",
      "metadata": {
        "id": "esnkRq0-IV_R"
      },
      "source": [
        "## **Q5. RF classifier**"
      ]
    },
    {
      "cell_type": "code",
      "execution_count": 57,
      "metadata": {},
      "outputs": [
        {
          "name": "stdout",
          "output_type": "stream",
          "text": [
            "Training Memory Usage (Peak): 4.419674 MB\n",
            "Training Execution Time: 0.18192417 seconds\n",
            "\n",
            "\n",
            "Test Memory Usage (Peak): 1.210583 MB\n",
            "Test Execution Time: 0.00319358 seconds\n",
            "\n",
            "\n",
            "Maximum depth of trees in the forest: 9\n",
            "Accuracy: 33.65%\n"
          ]
        }
      ],
      "source": [
        "from sklearn.ensemble import RandomForestClassifier\n",
        "from sklearn.metrics import accuracy_score, classification_report\n",
        "\n",
        "# x_train, y_train, x_test, y_test, n_estimators=100, max_depth='1000', bootstrap=True, random_state=0, max_samples=0.8, max_features=\"sqrt\", criterion='entropy'\n",
        "# max_sample -> 0~1.0\n",
        "# max_feartures -> None, sqrt, log2\n",
        "# criterion -> entropy, gini, log_loss\n",
        "\n",
        "def RF_classification(x_train, y_train, x_test, y_test, n_estimators=100, max_depth=1000, bootstrap=True, random_state=0, max_samples=0.8, max_features=\"sqrt\", criterion='entropy', time_memory_check=False):\n",
        "    rf_clf = RandomForestClassifier(n_estimators=n_estimators, max_depth=max_depth, bootstrap=bootstrap, random_state=random_state, max_samples=max_samples, max_features=max_features, criterion=criterion)\n",
        "    if time_memory_check:\n",
        "        tracemalloc.start() \n",
        "        start_time = timeit.default_timer() \n",
        "        \n",
        "        rf_clf.fit(x_train.T, y_train.ravel())\n",
        "        \n",
        "        current, train_peak = tracemalloc.get_traced_memory()\n",
        "        tracemalloc.stop()\n",
        "        end_time = timeit.default_timer()\n",
        "\n",
        "        train_time = end_time - start_time\n",
        "        # print(f\"Current memory usage: {current / 10**6} MB\")\n",
        "        print(f\"Training Memory Usage (Peak): {train_peak / 10**6} MB\")\n",
        "        print(f\"Training Execution Time: {train_time:.8f} seconds\")\n",
        "        print('\\n')\n",
        "\n",
        "    else:\n",
        "        rf_clf.fit(x_train.T, y_train.ravel())\n",
        "    \n",
        "    if time_memory_check:\n",
        "        tracemalloc.start() \n",
        "        start_time = timeit.default_timer()\n",
        "\n",
        "        y_pred = rf_clf.predict(x_test.T)\n",
        "\n",
        "        current, test_peak = tracemalloc.get_traced_memory()\n",
        "        tracemalloc.stop()\n",
        "        end_time = timeit.default_timer()\n",
        "\n",
        "        test_time = end_time - start_time\n",
        "\n",
        "        # print(f\"Current memory usage: {current / 10**6} MB\")\n",
        "        print(f\"Test Memory Usage (Peak): {test_peak / 10**6} MB\")\n",
        "        print(f\"Test Execution Time: {test_time:.8f} seconds\")\n",
        "        print('\\n')\n",
        "\n",
        "    else:\n",
        "        y_pred = rf_clf.predict(x_test.T)\n",
        "\n",
        "    accuracy = accuracy_score(y_test.T, y_pred)\n",
        "\n",
        "    # Full classification report\n",
        "    # print(classification_report(y_test.T, y_pred, zero_division=0))\n",
        "\n",
        "    # Retrieve the maximum depth of each tree in the forest\n",
        "    tree_depths = [estimator.tree_.max_depth for estimator in rf_clf.estimators_]\n",
        "    max_tree_depth = max(tree_depths)\n",
        "    print(f\"Maximum depth of trees in the forest: {max_tree_depth}\")\n",
        "\n",
        "    return accuracy\n",
        "\n",
        "accuracy = RF_classification(x_train, y_train, x_test, y_test, n_estimators=5, max_depth=15, bootstrap=True, random_state=0, max_samples=0.7, max_features=\"sqrt\", criterion='entropy', time_memory_check=True)\n",
        "print(f\"Accuracy: {accuracy * 100:.2f}%\")"
      ]
    },
    {
      "cell_type": "code",
      "execution_count": 30,
      "metadata": {},
      "outputs": [
        {
          "name": "stdout",
          "output_type": "stream",
          "text": [
            "Best Parameters: {'n_estimators': 40, 'max_samples': 0.3, 'max_features': 'log2', 'max_depth': 5, 'criterion': 'entropy'}\n",
            "Best Accuracy: 0.3822432587492829\n",
            "Accuracy: 50.00%\n"
          ]
        }
      ],
      "source": [
        "# Hyperparameter tuning\n",
        "from sklearn.model_selection import RandomizedSearchCV\n",
        "\n",
        "def RF_random_search():\n",
        "    rf_clf = RandomForestClassifier()\n",
        "    \n",
        "    param_distributions = dict()\n",
        "    param_distributions['n_estimators'] = [10, 20, 30, 40, 50]\n",
        "    param_distributions['max_depth'] = [1,2,3,4,5]\n",
        "    param_distributions['max_samples'] = [0.1, 0.2, 0.3, 1]\n",
        "    param_distributions['max_features'] = [\"sqrt\", \"log2\"]\n",
        "    param_distributions['criterion'] = [\"gini\", \"entropy\", \"log_loss\"]\n",
        "    \n",
        "    random_search = RandomizedSearchCV(rf_clf, param_distributions, n_iter=10, scoring='accuracy', cv=5, random_state=None)\n",
        "    random_result = random_search.fit(x_train.T, y_train.ravel())\n",
        "\n",
        "    print(f'Best Parameters: {random_search.best_params_}')\n",
        "    print(f'Best Accuracy: {random_result.best_score_}')\n",
        "\n",
        "    best_rf = random_search.best_estimator_\n",
        "\n",
        "    y_pred = best_rf.predict(x_test.T)\n",
        "    accuracy = accuracy_score(y_test.T, y_pred)\n",
        "    print(f\"Accuracy: {accuracy * 100:.2f}%\")\n",
        "\n",
        "    return random_search.best_estimator_\n",
        "\n",
        "best_rf = RF_random_search()"
      ]
    },
    {
      "cell_type": "markdown",
      "metadata": {},
      "source": [
        "Two-Pixel Test"
      ]
    },
    {
      "cell_type": "code",
      "execution_count": 33,
      "metadata": {},
      "outputs": [],
      "source": [
        "# create two-pixel test\n",
        "import random\n",
        "def create_two_pixel_features(X, n_pairs=None, random_seed=None):\n",
        "    n_samples, n_features = X.shape\n",
        "\n",
        "    # Set random seed if provided\n",
        "    if random_seed is not None:\n",
        "        random.seed(random_seed)\n",
        "\n",
        "    # Generate all unique pairs of features where i != j\n",
        "    feature_pairs = [(i, j) for i in range(n_features) for j in range(i + 1, n_features)]\n",
        "\n",
        "    # If n_pairs is specified, randomly select a subset of feature pairs\n",
        "    if n_pairs is not None and n_pairs < len(feature_pairs):\n",
        "        feature_pairs = random.sample(feature_pairs, n_pairs)\n",
        "    \n",
        "    # Initialize a new features matrix for pairwise differences\n",
        "    new_features = np.zeros((n_samples, len(feature_pairs)))\n",
        "\n",
        "    # Fill in the new features with pairwise differences\n",
        "    for idx, (i, j) in enumerate(feature_pairs):\n",
        "        new_features[:, idx] = X[:, i] - X[:, j]\n",
        "\n",
        "    return new_features"
      ]
    },
    {
      "cell_type": "code",
      "execution_count": 46,
      "metadata": {},
      "outputs": [
        {
          "name": "stdout",
          "output_type": "stream",
          "text": [
            "Training Memory Usage (Peak): 4.419131 MB\n",
            "Training Execution Time: 0.17051700 seconds\n",
            "\n",
            "\n",
            "Test Memory Usage (Peak): 1.210631 MB\n",
            "Test Execution Time: 0.00327413 seconds\n",
            "\n",
            "\n",
            "Maximum depth of trees in the forest: 10\n",
            "0.25\n"
          ]
        }
      ],
      "source": [
        "x_combined = np.concatenate([x_train, x_test], axis=1)\n",
        "x_combined_2pix = create_two_pixel_features(x_combined.T, n_pairs=2576, random_seed=i).T\n",
        "\n",
        "x_train_2pix = x_combined_2pix[:, :x_train.shape[1]]\n",
        "x_test_2pix = x_combined_2pix[:, x_train.shape[1]:]\n",
        "\n",
        "accuracy = RF_classification(x_train_2pix, y_train, x_test_2pix, y_test, n_estimators=5, max_depth=15, bootstrap=True, random_state=0, max_samples=0.7, max_features=\"sqrt\", criterion='entropy', time_memory_check=True)\n",
        "print(accuracy)"
      ]
    },
    {
      "cell_type": "code",
      "execution_count": 37,
      "metadata": {},
      "outputs": [
        {
          "name": "stdout",
          "output_type": "stream",
          "text": [
            "Maximum depth of trees in the forest: 9\n",
            "Maximum depth of trees in the forest: 9\n",
            "Maximum depth of trees in the forest: 9\n",
            "Maximum depth of trees in the forest: 9\n",
            "Maximum depth of trees in the forest: 11\n",
            "Maximum depth of trees in the forest: 9\n",
            "Maximum depth of trees in the forest: 9\n",
            "Maximum depth of trees in the forest: 10\n",
            "Maximum depth of trees in the forest: 10\n",
            "Maximum depth of trees in the forest: 9\n",
            "Maximum depth of trees in the forest: 10\n",
            "Maximum depth of trees in the forest: 9\n",
            "Maximum depth of trees in the forest: 9\n",
            "Maximum depth of trees in the forest: 9\n",
            "Maximum depth of trees in the forest: 9\n",
            "Maximum depth of trees in the forest: 9\n",
            "Maximum depth of trees in the forest: 9\n",
            "Maximum depth of trees in the forest: 9\n",
            "Maximum depth of trees in the forest: 9\n",
            "Maximum depth of trees in the forest: 9\n",
            "Maximum depth of trees in the forest: 10\n",
            "Maximum depth of trees in the forest: 9\n",
            "Maximum depth of trees in the forest: 10\n",
            "Maximum depth of trees in the forest: 9\n",
            "Maximum depth of trees in the forest: 10\n",
            "Maximum depth of trees in the forest: 10\n",
            "Maximum depth of trees in the forest: 10\n",
            "Maximum depth of trees in the forest: 9\n",
            "Maximum depth of trees in the forest: 9\n",
            "Maximum depth of trees in the forest: 10\n",
            "Average Accuracy: 32.85%\n"
          ]
        }
      ],
      "source": [
        "# average result of two-pixel test\n",
        "num_iter = 30\n",
        "\n",
        "def avg_acc(num_iter):\n",
        "    acc_sum = 0\n",
        "    for i in range(num_iter):\n",
        "        x_combined = np.concatenate([x_train, x_test], axis=1)\n",
        "        x_combined_2pix = create_two_pixel_features(x_combined.T, n_pairs=2576, random_seed=i).T\n",
        "\n",
        "        x_train_2pix = x_combined_2pix[:, :x_train.shape[1]]\n",
        "        x_test_2pix = x_combined_2pix[:, x_train.shape[1]:]\n",
        "\n",
        "        acc_sum += RF_classification(x_train_2pix, y_train, x_test_2pix, y_test, n_estimators=5, max_depth=15, bootstrap=True, random_state=0, max_samples=0.7, max_features=\"sqrt\", criterion='entropy')\n",
        "\n",
        "    return acc_sum / num_iter\n",
        "\n",
        "accuracy = avg_acc(num_iter)\n",
        "print(f\"Average Accuracy: {accuracy * 100:.2f}%\")"
      ]
    },
    {
      "cell_type": "code",
      "execution_count": null,
      "metadata": {},
      "outputs": [],
      "source": []
    }
  ],
  "metadata": {
    "colab": {
      "provenance": []
    },
    "kernelspec": {
      "display_name": "base",
      "language": "python",
      "name": "python3"
    },
    "language_info": {
      "codemirror_mode": {
        "name": "ipython",
        "version": 3
      },
      "file_extension": ".py",
      "mimetype": "text/x-python",
      "name": "python",
      "nbconvert_exporter": "python",
      "pygments_lexer": "ipython3",
      "version": "3.9.12"
    }
  },
  "nbformat": 4,
  "nbformat_minor": 0
}
