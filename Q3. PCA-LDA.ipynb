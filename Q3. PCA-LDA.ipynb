{
 "cells": [
  {
   "cell_type": "code",
   "execution_count": 37,
   "metadata": {},
   "outputs": [
    {
     "data": {
      "text/plain": [
       "{'__header__': b'MATLAB 5.0 MAT-file, Platform: PCWIN, Created on: Sat May 27 02:07:24 2006',\n",
       " '__version__': '1.0',\n",
       " '__globals__': [],\n",
       " 'X': array([[106, 130, 191, ...,  70, 183,  77],\n",
       "        [103, 129, 185, ...,  62, 250,  72],\n",
       "        [103, 130, 174, ...,  83, 163,  68],\n",
       "        ...,\n",
       "        [ 37,  40,  22, ...,  87, 102,  93],\n",
       "        [ 36,  36,  19, ...,  89,  95, 103],\n",
       "        [ 41,  35,  17, ...,  94, 106, 110]], dtype=uint8),\n",
       " 'l': array([[ 1,  1,  1,  1,  1,  1,  1,  1,  1,  1,  2,  2,  2,  2,  2,  2,\n",
       "          2,  2,  2,  2,  3,  3,  3,  3,  3,  3,  3,  3,  3,  3,  4,  4,\n",
       "          4,  4,  4,  4,  4,  4,  4,  4,  5,  5,  5,  5,  5,  5,  5,  5,\n",
       "          5,  5,  6,  6,  6,  6,  6,  6,  6,  6,  6,  6,  7,  7,  7,  7,\n",
       "          7,  7,  7,  7,  7,  7,  8,  8,  8,  8,  8,  8,  8,  8,  8,  8,\n",
       "          9,  9,  9,  9,  9,  9,  9,  9,  9,  9, 10, 10, 10, 10, 10, 10,\n",
       "         10, 10, 10, 10, 11, 11, 11, 11, 11, 11, 11, 11, 11, 11, 12, 12,\n",
       "         12, 12, 12, 12, 12, 12, 12, 12, 13, 13, 13, 13, 13, 13, 13, 13,\n",
       "         13, 13, 14, 14, 14, 14, 14, 14, 14, 14, 14, 14, 15, 15, 15, 15,\n",
       "         15, 15, 15, 15, 15, 15, 16, 16, 16, 16, 16, 16, 16, 16, 16, 16,\n",
       "         17, 17, 17, 17, 17, 17, 17, 17, 17, 17, 18, 18, 18, 18, 18, 18,\n",
       "         18, 18, 18, 18, 19, 19, 19, 19, 19, 19, 19, 19, 19, 19, 20, 20,\n",
       "         20, 20, 20, 20, 20, 20, 20, 20, 21, 21, 21, 21, 21, 21, 21, 21,\n",
       "         21, 21, 22, 22, 22, 22, 22, 22, 22, 22, 22, 22, 23, 23, 23, 23,\n",
       "         23, 23, 23, 23, 23, 23, 24, 24, 24, 24, 24, 24, 24, 24, 24, 24,\n",
       "         25, 25, 25, 25, 25, 25, 25, 25, 25, 25, 26, 26, 26, 26, 26, 26,\n",
       "         26, 26, 26, 26, 27, 27, 27, 27, 27, 27, 27, 27, 27, 27, 28, 28,\n",
       "         28, 28, 28, 28, 28, 28, 28, 28, 29, 29, 29, 29, 29, 29, 29, 29,\n",
       "         29, 29, 30, 30, 30, 30, 30, 30, 30, 30, 30, 30, 31, 31, 31, 31,\n",
       "         31, 31, 31, 31, 31, 31, 32, 32, 32, 32, 32, 32, 32, 32, 32, 32,\n",
       "         33, 33, 33, 33, 33, 33, 33, 33, 33, 33, 34, 34, 34, 34, 34, 34,\n",
       "         34, 34, 34, 34, 35, 35, 35, 35, 35, 35, 35, 35, 35, 35, 36, 36,\n",
       "         36, 36, 36, 36, 36, 36, 36, 36, 37, 37, 37, 37, 37, 37, 37, 37,\n",
       "         37, 37, 38, 38, 38, 38, 38, 38, 38, 38, 38, 38, 39, 39, 39, 39,\n",
       "         39, 39, 39, 39, 39, 39, 40, 40, 40, 40, 40, 40, 40, 40, 40, 40,\n",
       "         41, 41, 41, 41, 41, 41, 41, 41, 41, 41, 42, 42, 42, 42, 42, 42,\n",
       "         42, 42, 42, 42, 43, 43, 43, 43, 43, 43, 43, 43, 43, 43, 44, 44,\n",
       "         44, 44, 44, 44, 44, 44, 44, 44, 45, 45, 45, 45, 45, 45, 45, 45,\n",
       "         45, 45, 46, 46, 46, 46, 46, 46, 46, 46, 46, 46, 47, 47, 47, 47,\n",
       "         47, 47, 47, 47, 47, 47, 48, 48, 48, 48, 48, 48, 48, 48, 48, 48,\n",
       "         49, 49, 49, 49, 49, 49, 49, 49, 49, 49, 50, 50, 50, 50, 50, 50,\n",
       "         50, 50, 50, 50, 51, 51, 51, 51, 51, 51, 51, 51, 51, 51, 52, 52,\n",
       "         52, 52, 52, 52, 52, 52, 52, 52]], dtype=uint8)}"
      ]
     },
     "execution_count": 37,
     "metadata": {},
     "output_type": "execute_result"
    }
   ],
   "source": [
    "import scipy.io as sio\n",
    "import numpy as np\n",
    "import seaborn as sns\n",
    "import matplotlib.pyplot as plt\n",
    "from sklearn.model_selection import train_test_split\n",
    "from sklearn.neighbors import KNeighborsClassifier\n",
    "from sklearn.metrics import accuracy_score, confusion_matrix\n",
    "\n",
    "mat_content = sio.loadmat('assets/face.mat')\n",
    "mat_content # Let's see the content..."
   ]
  },
  {
   "cell_type": "code",
   "execution_count": 2,
   "metadata": {},
   "outputs": [
    {
     "name": "stdout",
     "output_type": "stream",
     "text": [
      "Training set shape: (2576, 416)\n",
      "Test set shape: (2576, 104)\n"
     ]
    }
   ],
   "source": [
    "# train, test data split\n",
    "\n",
    "face_data = mat_content['X']\n",
    "face_labels = mat_content['l']\n",
    "\n",
    "x_train = []\n",
    "x_test = []\n",
    "\n",
    "y_train = []\n",
    "y_test = []\n",
    "\n",
    "n_classes = 52\n",
    "images_per_class = 10\n",
    "\n",
    "for i in range(n_classes):\n",
    "    start_idx = i * images_per_class\n",
    "    end_idx = start_idx + images_per_class\n",
    "    \n",
    "    x_train.append(face_data[:, start_idx:start_idx+8])\n",
    "    x_test.append(face_data[:, start_idx+8:end_idx])\n",
    "\n",
    "    y_train.append(face_labels[:, start_idx:start_idx+8])\n",
    "    y_test.append(face_labels[:, start_idx+8:end_idx])\n",
    "\n",
    "x_train = np.hstack(x_train)\n",
    "x_test = np.hstack(x_test)\n",
    "y_train = np.hstack(y_train)\n",
    "y_test = np.hstack(y_test)\n",
    "\n",
    "\n",
    "\n",
    "# Output the shapes of the training and testing sets\n",
    "print(f\"Training set shape: {x_train.shape}\")\n",
    "print(f\"Test set shape: {x_test.shape}\")"
   ]
  },
  {
   "cell_type": "code",
   "execution_count": 23,
   "metadata": {},
   "outputs": [],
   "source": [
    "x_train = x_train.astype(np.float64)\n",
    "x_test = x_test.astype(np.float64)"
   ]
  },
  {
   "cell_type": "markdown",
   "metadata": {},
   "source": [
    "**PCA-LDA**"
   ]
  },
  {
   "cell_type": "code",
   "execution_count": 24,
   "metadata": {},
   "outputs": [],
   "source": [
    "# 클래스별로 x_train을 쪼개는 함수\n",
    "\n",
    "def split_by_class(x_train, y_train):\n",
    "    y_train = y_train.flatten()\n",
    "    classes = np.unique(y_train)  # 고유 클래스 값들\n",
    "    class_dict = {}\n",
    "    \n",
    "    for cls in classes:\n",
    "        # 해당 클래스에 해당하는 인덱스 필터링\n",
    "        indices = np.where(y_train == cls)[0]\n",
    "        # 클래스별 x_train 데이터를 딕셔너리에 저장\n",
    "        class_dict[cls] = x_train[:, indices]\n",
    "    \n",
    "    return class_dict\n",
    "\n",
    "# 클래스별로 분리된 x_train\n",
    "class_split_x_train = split_by_class(x_train, y_train)\n",
    "class_split_x_train = np.array(list(class_split_x_train.values()))"
   ]
  },
  {
   "cell_type": "code",
   "execution_count": 25,
   "metadata": {},
   "outputs": [],
   "source": [
    "# compute the mean vector\n",
    "\n",
    "class_mean = np.mean(class_split_x_train, axis=2) #(52,2576)\n",
    "overall_mean = np.mean(x_train, axis=1).reshape(-1,1) #(2576, 1)"
   ]
  },
  {
   "cell_type": "code",
   "execution_count": 26,
   "metadata": {},
   "outputs": [],
   "source": [
    "# within-class scatter matrix, between-class scatter matrix, total scatter matrix\n",
    "\n",
    "n_features = x_train.shape[0]\n",
    "Sb = np.zeros((n_features, n_features))\n",
    "Sw = np.zeros((n_features, n_features))\n",
    "\n",
    "# total scatter matrix\n",
    "T = x_train - overall_mean\n",
    "St = np.matmul(T, T.T) / (T.shape[1]-1)\n",
    "\n",
    "for i in range(class_split_x_train.shape[2]):\n",
    "    X = class_split_x_train[i]\n",
    "    N = X.shape[1]\n",
    "    \n",
    "    # between-class scatter matrix\n",
    "    mean_diff = class_mean[i].reshape(-1, 1) - overall_mean #(2576, 1)\n",
    "    Sb += N * (mean_diff).dot(mean_diff.T)\n",
    "    \n",
    "    # within-class scatter matrix\n",
    "    for j in range(X.shape[1]):\n",
    "        x = X[:, j]\n",
    "        x = x.reshape(n_features, 1)\n",
    "        mean = class_mean[i].reshape(n_features, 1)\n",
    "        Sw += (x - mean).dot((x - mean).T)"
   ]
  },
  {
   "cell_type": "code",
   "execution_count": 27,
   "metadata": {},
   "outputs": [
    {
     "name": "stdout",
     "output_type": "stream",
     "text": [
      "rank of between-class scatter matrix:  8\n",
      "rank of within-class scatter matrix:  56\n",
      "rank of total scatter matrix:  415\n"
     ]
    }
   ],
   "source": [
    "#################################\n",
    "# ranks of the scatter matrices #\n",
    "#################################\n",
    "\n",
    "# between-class scatter matrix\n",
    "rank_b = np.linalg.matrix_rank(Sb)\n",
    "print('rank of between-class scatter matrix: ', rank_b)\n",
    "\n",
    "# within-class scatter matrix\n",
    "rank_w = np.linalg.matrix_rank(Sw)\n",
    "print('rank of within-class scatter matrix: ', rank_w)\n",
    "\n",
    "# total scatter matrix\n",
    "rank_t = np.linalg.matrix_rank(St)\n",
    "print('rank of total scatter matrix: ', rank_t)"
   ]
  },
  {
   "cell_type": "code",
   "execution_count": 28,
   "metadata": {},
   "outputs": [],
   "source": [
    "# PCA\n",
    "M_pca = 100\n",
    "\n",
    "eigvals, eigvecs = np.linalg.eigh(St)\n",
    "\n",
    "sorted_indices = np.argsort(eigvals)[::-1]\n",
    "\n",
    "eigvals = eigvals[sorted_indices] #(2576,)\n",
    "eigvecs = eigvecs[:, sorted_indices] #(2576, 2576)\n",
    "\n",
    "W_pca = eigvecs[:, :M_pca] #(2576, M_pca)\n",
    "A_pca = np.matmul(W_pca.T, T) #(M_pca, 416)"
   ]
  },
  {
   "cell_type": "code",
   "execution_count": 29,
   "metadata": {},
   "outputs": [
    {
     "name": "stderr",
     "output_type": "stream",
     "text": [
      "No artists with labels found to put in legend.  Note that artists whose label start with an underscore are ignored when legend() is called with no argument.\n"
     ]
    },
    {
     "data": {
      "image/png": "[encoded data removed]",
      "text/plain": [
       "<Figure size 640x480 with 1 Axes>"
      ]
     },
     "metadata": {},
     "output_type": "display_data"
    }
   ],
   "source": [
    "# Plot the arrays\n",
    "plt.plot(eigvals)\n",
    "\n",
    "# Add title and labels\n",
    "plt.title(\"Eigenvalues\")\n",
    "plt.xlabel(\"Index\")\n",
    "plt.ylabel(\"Eigenvalues\")\n",
    "\n",
    "# Add a legend to distinguish the arrays\n",
    "plt.legend()\n",
    "\n",
    "# Show the plot\n",
    "plt.show()"
   ]
  },
  {
   "cell_type": "code",
   "execution_count": 31,
   "metadata": {},
   "outputs": [],
   "source": [
    "# LDA\n",
    "M_lda = 51\n",
    "\n",
    "S_lda = np.linalg.inv(W_pca.T @ Sw @ W_pca) @ (W_pca.T @ Sb @ W_pca)\n",
    "\n",
    "eigvals, eigvecs = np.linalg.eigh(S_lda)\n",
    "\n",
    "sorted_indices = np.argsort(eigvals)[::-1]\n",
    "\n",
    "eigvals = eigvals[sorted_indices] #(M_pca,)\n",
    "eigvecs = eigvecs[:, sorted_indices] #(M_pca, M_pca)\n",
    "\n",
    "W_lda = eigvecs[:, :M_lda] #(M_pca, M_lda)\n",
    "\n",
    "W_opt = np.matmul(W_pca, W_lda) #(2576, M_lda)\n",
    "A = np.matmul(W_opt.T, T) #(M_lda, 416)"
   ]
  },
  {
   "cell_type": "code",
   "execution_count": 32,
   "metadata": {},
   "outputs": [
    {
     "name": "stdout",
     "output_type": "stream",
     "text": [
      "Train Reconstruction Error: 22.88608977502502\n",
      "Test Reconstruction Error: 23.059603197031617\n"
     ]
    }
   ],
   "source": [
    "# Reconstruction\n",
    "\n",
    "# train\n",
    "x_train_rec = overall_mean + np.matmul(W_opt, A) #(2576, 416)\n",
    "\n",
    "# test\n",
    "T_test = x_test - overall_mean\n",
    "A_test = np.matmul(W_opt.T, T_test) #(M_lda, 104)\n",
    "x_test_rec = overall_mean + np.matmul(W_opt, A_test) #(2576, 104)\n",
    "\n",
    "rec_err_train = np.mean(np.abs(x_train - x_train_rec))\n",
    "print(f\"Train Reconstruction Error: {rec_err_train}\")\n",
    "\n",
    "rec_err_test = np.mean(np.abs(x_test - x_test_rec))\n",
    "print(f\"Test Reconstruction Error: {rec_err_test}\")"
   ]
  },
  {
   "cell_type": "markdown",
   "metadata": {},
   "source": [
    "**PCA-LDA based face recognition with the NN classifier**"
   ]
  },
  {
   "cell_type": "code",
   "execution_count": 33,
   "metadata": {},
   "outputs": [],
   "source": [
    "def PCA_LDA(x_train, y_train, M_pca, M_lda):\n",
    "    class_split_x_train = split_by_class(x_train, y_train)\n",
    "    class_split_x_train = np.array(list(class_split_x_train.values()))\n",
    "    \n",
    "    class_mean = np.mean(class_split_x_train, axis=2) #(52,2576)\n",
    "    overall_mean = np.mean(x_train, axis=1).reshape(-1,1) #(2576, 1)\n",
    "\n",
    "    n_features = x_train.shape[0]\n",
    "    Sb = np.zeros((n_features, n_features))\n",
    "    Sw = np.zeros((n_features, n_features))\n",
    "\n",
    "    # total scatter matrix\n",
    "    T = x_train - overall_mean\n",
    "    St = np.matmul(T, T.T) / (T.shape[1]-1)\n",
    "\n",
    "    for i in range(class_split_x_train.shape[2]):\n",
    "        X = class_split_x_train[i]\n",
    "        N = X.shape[1]\n",
    "        \n",
    "        # between-class scatter matrix\n",
    "        mean_diff = class_mean[i].reshape(-1, 1) - overall_mean #(2576, 1)\n",
    "        Sb += N * (mean_diff).dot(mean_diff.T)\n",
    "        # within-class scatter matrix\n",
    "        for j in range(X.shape[1]):\n",
    "            x = X[:, j]\n",
    "            x = x.reshape(n_features, 1)\n",
    "            mean = class_mean[i].reshape(n_features, 1)\n",
    "            Sw += (x - mean).dot((x - mean).T)\n",
    "\n",
    "    # PCA\n",
    "    eigvals, eigvecs = np.linalg.eigh(St)\n",
    "    sorted_indices = np.argsort(eigvals)[::-1]\n",
    "    eigvals = eigvals[sorted_indices] #(2576,)\n",
    "    eigvecs = eigvecs[:, sorted_indices] #(2576, 2576)\n",
    "    W_pca = eigvecs[:, :M_pca] #(2576, M_pca)\n",
    "\n",
    "    # LDA\n",
    "    S_lda = np.linalg.inv(W_pca.T @ Sw @ W_pca) @ (W_pca.T @ Sb @ W_pca)\n",
    "    eigvals, eigvecs = np.linalg.eigh(S_lda)\n",
    "    sorted_indices = np.argsort(eigvals)[::-1]\n",
    "    eigvals = eigvals[sorted_indices] #(M_pca,)\n",
    "    eigvecs = eigvecs[:, sorted_indices] #(M_pca, M_pca)\n",
    "    W_lda = eigvecs[:, :M_lda] #(M_pca, M_lda)\n",
    "    W_opt = np.matmul(W_pca, W_lda) #(2576, M_lda)\n",
    "\n",
    "    return W_opt"
   ]
  },
  {
   "cell_type": "code",
   "execution_count": 39,
   "metadata": {},
   "outputs": [],
   "source": [
    "def Recognition(x_train, y_train, M_pca, M_lda):\n",
    "    # Define the 1-Nearest Neighbor classifier with L1 distance (Manhattan distance)\n",
    "    nn = KNeighborsClassifier(n_neighbors=1, metric='manhattan')\n",
    "\n",
    "    W_opt = PCA_LDA(x_train, y_train, M_pca, M_lda)\n",
    "    # projection of training images\n",
    "    x_train_proj = np.matmul(W_opt.T, x_train - overall_mean)\n",
    "    x_test_proj = np.matmul(W_opt.T, x_test - overall_mean)\n",
    "\n",
    "    nn.fit(x_train_proj.T, y_train.reshape(-1))\n",
    "\n",
    "    # Model prediction\n",
    "    y_pred = nn.predict(x_test_proj.T)\n",
    "    \n",
    "    return y_pred"
   ]
  },
  {
   "cell_type": "code",
   "execution_count": 40,
   "metadata": {},
   "outputs": [
    {
     "name": "stdout",
     "output_type": "stream",
     "text": [
      "M_pca: 10, M_lda: 5, Accuracy: 35.58%\n",
      "M_pca: 10, M_lda: 10, Accuracy: 47.12%\n",
      "M_pca: 30, M_lda: 5, Accuracy: 27.88%\n",
      "M_pca: 30, M_lda: 10, Accuracy: 43.27%\n",
      "M_pca: 30, M_lda: 30, Accuracy: 59.62%\n",
      "M_pca: 50, M_lda: 5, Accuracy: 30.77%\n",
      "M_pca: 50, M_lda: 10, Accuracy: 45.19%\n",
      "M_pca: 50, M_lda: 30, Accuracy: 59.62%\n",
      "M_pca: 100, M_lda: 5, Accuracy: 31.73%\n",
      "M_pca: 100, M_lda: 10, Accuracy: 43.27%\n",
      "M_pca: 100, M_lda: 30, Accuracy: 52.88%\n",
      "M_pca: 100, M_lda: 51, Accuracy: 57.69%\n",
      "M_pca: 200, M_lda: 5, Accuracy: 28.85%\n",
      "M_pca: 200, M_lda: 10, Accuracy: 46.15%\n",
      "M_pca: 200, M_lda: 30, Accuracy: 50.96%\n",
      "M_pca: 200, M_lda: 51, Accuracy: 59.62%\n",
      "M_pca: 364, M_lda: 5, Accuracy: 30.77%\n",
      "M_pca: 364, M_lda: 10, Accuracy: 37.50%\n",
      "M_pca: 364, M_lda: 30, Accuracy: 50.96%\n",
      "M_pca: 364, M_lda: 51, Accuracy: 54.81%\n"
     ]
    }
   ],
   "source": [
    "M_pca_ = [10, 30, 50, 100, 200, 364] # <= N-c = 416-52= 364\n",
    "M_lda_ = [5, 10, 30, 51] # <= c-1 = 52-1 = 51\n",
    "acc_results = []\n",
    "for M_pca in M_pca_:\n",
    "    for M_lda in M_lda_:\n",
    "        if M_pca >= M_lda:\n",
    "            y_pred = Recognition(x_train, y_train, M_pca, M_lda)\n",
    "            # Calculate Accuracy\n",
    "            accuracy = accuracy_score(y_test.T, y_pred)\n",
    "            print(f\"M_pca: {M_pca}, M_lda: {M_lda}, Accuracy: {accuracy * 100:.2f}%\")\n",
    "            acc_results.append([M_pca, M_lda, accuracy])"
   ]
  },
  {
   "cell_type": "code",
   "execution_count": 38,
   "metadata": {},
   "outputs": [
    {
     "name": "stdout",
     "output_type": "stream",
     "text": [
      "Confusion Matrix:\n",
      "[[0 0 0 ... 0 0 0]\n",
      " [0 0 0 ... 0 0 0]\n",
      " [0 0 2 ... 0 0 0]\n",
      " ...\n",
      " [0 0 0 ... 2 0 0]\n",
      " [0 0 0 ... 0 1 0]\n",
      " [0 0 0 ... 0 0 0]]\n"
     ]
    },
    {
     "data": {
      "image/png": "[encoded data removed]",
      "text/plain": [
       "<Figure size 1000x800 with 1 Axes>"
      ]
     },
     "metadata": {},
     "output_type": "display_data"
    }
   ],
   "source": [
    "# Define the 1-Nearest Neighbor classifier with L1 distance (Manhattan distance)\n",
    "M_pca = 100\n",
    "M_lda = 50\n",
    "\n",
    "nn = KNeighborsClassifier(n_neighbors=1, metric='manhattan')\n",
    "\n",
    "W_opt = PCA_LDA(x_train, y_train, M_pca, M_lda)\n",
    "# projection of training images\n",
    "x_train_proj = np.matmul(W_opt.T, x_train - overall_mean)\n",
    "x_test_proj = np.matmul(W_opt.T, x_test - overall_mean)\n",
    "\n",
    "nn.fit(x_train_proj.T, y_train.reshape(-1))\n",
    "\n",
    "# Model prediction\n",
    "y_pred = nn.predict(x_test_proj.T)\n",
    "\n",
    "cm = confusion_matrix(y_test.T, y_pred)\n",
    "\n",
    "# Confusion matrix 출력\n",
    "print(\"Confusion Matrix:\")\n",
    "print(cm)\n",
    "\n",
    "# Confusion matrix 시각화\n",
    "plt.figure(figsize=(10, 8))\n",
    "sns.heatmap(cm, annot=True, fmt='d', cmap='Blues', cbar=False)\n",
    "plt.title('Confusion Matrix')\n",
    "plt.xlabel('Predicted Label')\n",
    "plt.ylabel('True Label')\n",
    "plt.show()"
   ]
  },
  {
   "cell_type": "code",
   "execution_count": 44,
   "metadata": {},
   "outputs": [
    {
     "data": {
      "text/plain": [
       "<matplotlib.image.AxesImage at 0x21a82979d90>"
      ]
     },
     "execution_count": 44,
     "metadata": {},
     "output_type": "execute_result"
    },
    {
     "data": {
      "image/png": "[encoded data removed]",
      "text/plain": [
       "<Figure size 640x480 with 1 Axes>"
      ]
     },
     "metadata": {},
     "output_type": "display_data"
    }
   ],
   "source": [
    "recon = overall_mean + np.matmul(W_opt, x_test_proj) \n",
    "image1 = np.reshape(x_test[:,0],(46,56)).T\n",
    "plt.imshow(image1, cmap = 'gist_gray')"
   ]
  },
  {
   "cell_type": "markdown",
   "metadata": {},
   "source": [
    "**Ensemble Learning**\n",
    "\n",
    "N-1 eigenfaces"
   ]
  },
  {
   "cell_type": "code",
   "execution_count": 17,
   "metadata": {},
   "outputs": [],
   "source": [
    "# Apply PCA_LDA\n",
    "M_pca = x_train.shape[1] - 1 # 415\n",
    "M_lda = x_train.shape[1] - 1 # 415\n",
    "\n",
    "W_opt = PCA_LDA(x_train, y_train, M_pca, M_lda)\n",
    "overall_mean = np.mean(x_train, axis=1).reshape(-1,1) #(2576, 1)\n",
    "x_train_proj = np.matmul(W_opt.T, x_train - overall_mean) #(415, 416)\n",
    "x_test_proj = np.matmul(W_opt.T, x_test - overall_mean) #(415, 104)"
   ]
  },
  {
   "cell_type": "markdown",
   "metadata": {},
   "source": [
    "randomisation in feature space \n",
    "\n",
    "M0 개의 largest eigenvector<br/>\n",
    "M1 개의 random eigenvector"
   ]
  },
  {
   "cell_type": "code",
   "execution_count": null,
   "metadata": {},
   "outputs": [],
   "source": [
    "M0 = 50\n",
    "M1 = 50\n",
    "\n",
    "def PCA_LDA_random(x_train, y_train, M_0, M_1, M_lda):\n",
    "    class_split_x_train = split_by_class(x_train, y_train)\n",
    "    class_split_x_train = np.array(list(class_split_x_train.values()))\n",
    "    \n",
    "    class_mean = np.mean(class_split_x_train, axis=2) #(52,2576)\n",
    "    overall_mean = np.mean(x_train, axis=1).reshape(-1,1) #(2576, 1)\n",
    "\n",
    "    n_features = x_train.shape[0]\n",
    "    Sb = np.zeros((n_features, n_features))\n",
    "    Sw = np.zeros((n_features, n_features))\n",
    "\n",
    "    # total scatter matrix\n",
    "    T = x_train - overall_mean\n",
    "    St = np.matmul(T, T.T) / (T.shape[1]-1)\n",
    "\n",
    "    for i in range(class_split_x_train.shape[2]):\n",
    "        X = class_split_x_train[i]\n",
    "        N = X.shape[1]\n",
    "        \n",
    "        # between-class scatter matrix\n",
    "        mean_diff = class_mean[i].reshape(-1, 1) - overall_mean #(2576, 1)\n",
    "        Sb += N * (mean_diff).dot(mean_diff.T)\n",
    "        # within-class scatter matrix\n",
    "        for j in range(X.shape[1]):\n",
    "            x = X[:, j]\n",
    "            x = x.reshape(n_features, 1)\n",
    "            mean = class_mean[i].reshape(n_features, 1)\n",
    "            Sw += (x - mean).dot((x - mean).T)\n",
    "\n",
    "    # PCA\n",
    "    eigvals, eigvecs = np.linalg.eigh(St)\n",
    "    sorted_indices = np.argsort(eigvals)[::-1]\n",
    "    eigvals = eigvals[sorted_indices] #(2576,)\n",
    "    eigvecs = eigvecs[:, sorted_indices] #(2576, 2576)\n",
    "    indicies = np.concatenate((sorted_indices[:M0], np.random.choice(sorted_indices[M0:], M1)))\n",
    "    W_pca = eigvecs[:, indicies] #(2576, M0+M1)\n",
    "    \n",
    "    # LDA\n",
    "    S_lda = np.linalg.inv(W_pca.T @ Sw @ W_pca) @ (W_pca.T @ Sb @ W_pca)\n",
    "    eigvals, eigvecs = np.linalg.eigh(S_lda)\n",
    "    sorted_indices = np.argsort(eigvals)[::-1]\n",
    "    eigvals = eigvals[sorted_indices] #(M_pca,)\n",
    "    eigvecs = eigvecs[:, sorted_indices] #(M_pca, M_pca)\n",
    "    W_lda = eigvecs[:, :M_lda] #(M_pca, M_lda)\n",
    "    W_opt = np.matmul(W_pca, W_lda) #(2576, M_lda)\n",
    "\n",
    "    return W_opt"
   ]
  },
  {
   "cell_type": "markdown",
   "metadata": {},
   "source": [
    "Bagging<br/>\n",
    "randomisation on data samples\n",
    "\n",
    "데이터 쪼개고 나머진 안 건드려서 knn model 만들기"
   ]
  },
  {
   "cell_type": "code",
   "execution_count": 18,
   "metadata": {},
   "outputs": [],
   "source": [
    "from sklearn.model_selection import StratifiedShuffleSplit\n",
    "\n",
    "n_samples = 200\n",
    "n_dataset = 4 # t=1,2,3,...,T\n",
    "\n",
    "def bagging(x_train, y_train, n_samples, t):\n",
    "    sss = StratifiedShuffleSplit(n_splits=1, train_size=n_samples, random_state=t)\n",
    "    # StratifiedShuffleSplit으로 샘플링\n",
    "    for train_idx, _ in sss.split(x_train.T, y_train.reshape(-1)):\n",
    "        x_resampled = x_train[:, train_idx]\n",
    "        y_resampled = y_train[:, train_idx]\n",
    "    return x_resampled, y_resampled\n",
    "\n",
    "x_bagging = []\n",
    "y_bagging = []\n",
    "for t in range(n_dataset):\n",
    "    x_resampled, y_resampled = bagging(x_train_proj, y_train, n_samples, i)\n",
    "    x_bagging.append(x_resampled)\n",
    "    y_bagging.append(y_resampled)\n",
    "    \n",
    "x_bagging =np.array(x_bagging) #(n_dataset, 415, n_samples)\n",
    "y_bagging =np.array(y_bagging) #(n_dataset, 1, n_samples)"
   ]
  },
  {
   "cell_type": "code",
   "execution_count": null,
   "metadata": {},
   "outputs": [],
   "source": []
  },
  {
   "cell_type": "markdown",
   "metadata": {},
   "source": [
    "the number of base models"
   ]
  },
  {
   "cell_type": "code",
   "execution_count": null,
   "metadata": {},
   "outputs": [],
   "source": [
    "n_models = 4 # t = 1,2,3,...T"
   ]
  },
  {
   "cell_type": "markdown",
   "metadata": {},
   "source": [
    "the randomness parameter"
   ]
  },
  {
   "cell_type": "code",
   "execution_count": null,
   "metadata": {},
   "outputs": [],
   "source": [
    "n_params = 10"
   ]
  },
  {
   "cell_type": "markdown",
   "metadata": {},
   "source": [
    "Training"
   ]
  },
  {
   "cell_type": "code",
   "execution_count": null,
   "metadata": {},
   "outputs": [],
   "source": []
  },
  {
   "cell_type": "markdown",
   "metadata": {},
   "source": [
    "Fusion Rule\n",
    "\n",
    "summation, multiplication, majority voting"
   ]
  }
 ],
 "metadata": {
  "kernelspec": {
   "display_name": "env2",
   "language": "python",
   "name": "env2"
  },
  "language_info": {
   "codemirror_mode": {
    "name": "ipython",
    "version": 3
   },
   "file_extension": ".py",
   "mimetype": "text/x-python",
   "name": "python",
   "nbconvert_exporter": "python",
   "pygments_lexer": "ipython3",
   "version": "3.8.12"
  }
 },
 "nbformat": 4,
 "nbformat_minor": 2
}
