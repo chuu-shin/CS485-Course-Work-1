{
 "cells": [
  {
   "cell_type": "code",
   "execution_count": 35,
   "metadata": {},
   "outputs": [
    {
     "data": {
      "text/plain": [
       "{'__header__': b'MATLAB 5.0 MAT-file, Platform: PCWIN, Created on: Sat May 27 02:07:24 2006',\n",
       " '__version__': '1.0',\n",
       " '__globals__': [],\n",
       " 'X': array([[106, 130, 191, ...,  70, 183,  77],\n",
       "        [103, 129, 185, ...,  62, 250,  72],\n",
       "        [103, 130, 174, ...,  83, 163,  68],\n",
       "        ...,\n",
       "        [ 37,  40,  22, ...,  87, 102,  93],\n",
       "        [ 36,  36,  19, ...,  89,  95, 103],\n",
       "        [ 41,  35,  17, ...,  94, 106, 110]], dtype=uint8),\n",
       " 'l': array([[ 1,  1,  1,  1,  1,  1,  1,  1,  1,  1,  2,  2,  2,  2,  2,  2,\n",
       "          2,  2,  2,  2,  3,  3,  3,  3,  3,  3,  3,  3,  3,  3,  4,  4,\n",
       "          4,  4,  4,  4,  4,  4,  4,  4,  5,  5,  5,  5,  5,  5,  5,  5,\n",
       "          5,  5,  6,  6,  6,  6,  6,  6,  6,  6,  6,  6,  7,  7,  7,  7,\n",
       "          7,  7,  7,  7,  7,  7,  8,  8,  8,  8,  8,  8,  8,  8,  8,  8,\n",
       "          9,  9,  9,  9,  9,  9,  9,  9,  9,  9, 10, 10, 10, 10, 10, 10,\n",
       "         10, 10, 10, 10, 11, 11, 11, 11, 11, 11, 11, 11, 11, 11, 12, 12,\n",
       "         12, 12, 12, 12, 12, 12, 12, 12, 13, 13, 13, 13, 13, 13, 13, 13,\n",
       "         13, 13, 14, 14, 14, 14, 14, 14, 14, 14, 14, 14, 15, 15, 15, 15,\n",
       "         15, 15, 15, 15, 15, 15, 16, 16, 16, 16, 16, 16, 16, 16, 16, 16,\n",
       "         17, 17, 17, 17, 17, 17, 17, 17, 17, 17, 18, 18, 18, 18, 18, 18,\n",
       "         18, 18, 18, 18, 19, 19, 19, 19, 19, 19, 19, 19, 19, 19, 20, 20,\n",
       "         20, 20, 20, 20, 20, 20, 20, 20, 21, 21, 21, 21, 21, 21, 21, 21,\n",
       "         21, 21, 22, 22, 22, 22, 22, 22, 22, 22, 22, 22, 23, 23, 23, 23,\n",
       "         23, 23, 23, 23, 23, 23, 24, 24, 24, 24, 24, 24, 24, 24, 24, 24,\n",
       "         25, 25, 25, 25, 25, 25, 25, 25, 25, 25, 26, 26, 26, 26, 26, 26,\n",
       "         26, 26, 26, 26, 27, 27, 27, 27, 27, 27, 27, 27, 27, 27, 28, 28,\n",
       "         28, 28, 28, 28, 28, 28, 28, 28, 29, 29, 29, 29, 29, 29, 29, 29,\n",
       "         29, 29, 30, 30, 30, 30, 30, 30, 30, 30, 30, 30, 31, 31, 31, 31,\n",
       "         31, 31, 31, 31, 31, 31, 32, 32, 32, 32, 32, 32, 32, 32, 32, 32,\n",
       "         33, 33, 33, 33, 33, 33, 33, 33, 33, 33, 34, 34, 34, 34, 34, 34,\n",
       "         34, 34, 34, 34, 35, 35, 35, 35, 35, 35, 35, 35, 35, 35, 36, 36,\n",
       "         36, 36, 36, 36, 36, 36, 36, 36, 37, 37, 37, 37, 37, 37, 37, 37,\n",
       "         37, 37, 38, 38, 38, 38, 38, 38, 38, 38, 38, 38, 39, 39, 39, 39,\n",
       "         39, 39, 39, 39, 39, 39, 40, 40, 40, 40, 40, 40, 40, 40, 40, 40,\n",
       "         41, 41, 41, 41, 41, 41, 41, 41, 41, 41, 42, 42, 42, 42, 42, 42,\n",
       "         42, 42, 42, 42, 43, 43, 43, 43, 43, 43, 43, 43, 43, 43, 44, 44,\n",
       "         44, 44, 44, 44, 44, 44, 44, 44, 45, 45, 45, 45, 45, 45, 45, 45,\n",
       "         45, 45, 46, 46, 46, 46, 46, 46, 46, 46, 46, 46, 47, 47, 47, 47,\n",
       "         47, 47, 47, 47, 47, 47, 48, 48, 48, 48, 48, 48, 48, 48, 48, 48,\n",
       "         49, 49, 49, 49, 49, 49, 49, 49, 49, 49, 50, 50, 50, 50, 50, 50,\n",
       "         50, 50, 50, 50, 51, 51, 51, 51, 51, 51, 51, 51, 51, 51, 52, 52,\n",
       "         52, 52, 52, 52, 52, 52, 52, 52]], dtype=uint8)}"
      ]
     },
     "execution_count": 35,
     "metadata": {},
     "output_type": "execute_result"
    }
   ],
   "source": [
    "import scipy.io as sio\n",
    "from scipy.stats import mode\n",
    "import numpy as np\n",
    "import seaborn as sns\n",
    "import matplotlib.pyplot as plt\n",
    "import pandas as pd\n",
    "\n",
    "from sklearn.model_selection import StratifiedShuffleSplit\n",
    "from sklearn.neighbors import KNeighborsClassifier\n",
    "from sklearn.metrics import accuracy_score, confusion_matrix\n",
    "\n",
    "np.random.seed(42)\n",
    "\n",
    "mat_content = sio.loadmat('assets/face.mat')\n",
    "mat_content # Let's see the content..."
   ]
  },
  {
   "cell_type": "code",
   "execution_count": 3,
   "metadata": {},
   "outputs": [
    {
     "name": "stdout",
     "output_type": "stream",
     "text": [
      "Training set shape: (2576, 416)\n",
      "Test set shape: (2576, 104)\n"
     ]
    }
   ],
   "source": [
    "# train, test data split\n",
    "\n",
    "face_data = mat_content['X']\n",
    "face_labels = mat_content['l']\n",
    "\n",
    "x_train = []\n",
    "x_test = []\n",
    "\n",
    "y_train = []\n",
    "y_test = []\n",
    "\n",
    "n_classes = 52\n",
    "images_per_class = 10\n",
    "\n",
    "for i in range(n_classes):\n",
    "    start_idx = i * images_per_class\n",
    "    end_idx = start_idx + images_per_class\n",
    "    \n",
    "    x_train.append(face_data[:, start_idx:start_idx+8])\n",
    "    x_test.append(face_data[:, start_idx+8:end_idx])\n",
    "\n",
    "    y_train.append(face_labels[:, start_idx:start_idx+8])\n",
    "    y_test.append(face_labels[:, start_idx+8:end_idx])\n",
    "\n",
    "x_train = np.hstack(x_train)\n",
    "x_test = np.hstack(x_test)\n",
    "y_train = np.hstack(y_train)\n",
    "y_test = np.hstack(y_test)\n",
    "\n",
    "\n",
    "\n",
    "# Output the shapes of the training and testing sets\n",
    "print(f\"Training set shape: {x_train.shape}\")\n",
    "print(f\"Test set shape: {x_test.shape}\")"
   ]
  },
  {
   "cell_type": "code",
   "execution_count": 4,
   "metadata": {},
   "outputs": [],
   "source": [
    "x_train = x_train.astype(np.float64)\n",
    "x_test = x_test.astype(np.float64)"
   ]
  },
  {
   "cell_type": "markdown",
   "metadata": {},
   "source": [
    "**PCA-LDA**"
   ]
  },
  {
   "cell_type": "code",
   "execution_count": 4,
   "metadata": {},
   "outputs": [],
   "source": [
    "# 클래스별로 x_train을 쪼개는 함수\n",
    "\n",
    "def split_by_class(x_train, y_train):\n",
    "    y_train = y_train.flatten()\n",
    "    classes = np.unique(y_train)  # 고유 클래스 값들\n",
    "    class_dict = {}\n",
    "    \n",
    "    for cls in classes:\n",
    "        # 해당 클래스에 해당하는 인덱스 필터링\n",
    "        indices = np.where(y_train == cls)[0]\n",
    "        # 클래스별 x_train 데이터를 딕셔너리에 저장\n",
    "        class_dict[cls] = x_train[:, indices]\n",
    "    \n",
    "    return class_dict\n",
    "\n",
    "# 클래스별로 분리된 x_train\n",
    "class_split_x_train = split_by_class(x_train, y_train)\n",
    "class_split_x_train = np.array(list(class_split_x_train.values()))"
   ]
  },
  {
   "cell_type": "code",
   "execution_count": 5,
   "metadata": {},
   "outputs": [],
   "source": [
    "# compute the mean vector\n",
    "\n",
    "class_mean = np.mean(class_split_x_train, axis=2) #(52,2576)\n",
    "overall_mean = np.mean(x_train, axis=1).reshape(-1,1) #(2576, 1)"
   ]
  },
  {
   "cell_type": "code",
   "execution_count": 6,
   "metadata": {},
   "outputs": [],
   "source": [
    "# within-class scatter matrix, between-class scatter matrix, total scatter matrix\n",
    "\n",
    "n_features = x_train.shape[0]\n",
    "Sb = np.zeros((n_features, n_features))\n",
    "Sw = np.zeros((n_features, n_features))\n",
    "\n",
    "# total scatter matrix\n",
    "T = x_train - overall_mean\n",
    "St = np.matmul(T, T.T) / (T.shape[1]-1)\n",
    "\n",
    "for i in range(class_split_x_train.shape[2]):\n",
    "    X = class_split_x_train[i]\n",
    "    N = X.shape[1]\n",
    "    \n",
    "    # between-class scatter matrix\n",
    "    mean_diff = class_mean[i].reshape(-1, 1) - overall_mean #(2576, 1)\n",
    "    Sb += N * (mean_diff).dot(mean_diff.T)\n",
    "    \n",
    "    # within-class scatter matrix\n",
    "    for j in range(X.shape[1]):\n",
    "        x = X[:, j]\n",
    "        x = x.reshape(n_features, 1)\n",
    "        mean = class_mean[i].reshape(n_features, 1)\n",
    "        Sw += (x - mean).dot((x - mean).T)"
   ]
  },
  {
   "cell_type": "code",
   "execution_count": 7,
   "metadata": {},
   "outputs": [
    {
     "name": "stdout",
     "output_type": "stream",
     "text": [
      "rank of between-class scatter matrix:  8\n",
      "rank of within-class scatter matrix:  56\n",
      "rank of total scatter matrix:  415\n"
     ]
    }
   ],
   "source": [
    "#################################\n",
    "# ranks of the scatter matrices #\n",
    "#################################\n",
    "\n",
    "# between-class scatter matrix\n",
    "rank_b = np.linalg.matrix_rank(Sb)\n",
    "print('rank of between-class scatter matrix: ', rank_b)\n",
    "\n",
    "# within-class scatter matrix\n",
    "rank_w = np.linalg.matrix_rank(Sw)\n",
    "print('rank of within-class scatter matrix: ', rank_w)\n",
    "\n",
    "# total scatter matrix\n",
    "rank_t = np.linalg.matrix_rank(St)\n",
    "print('rank of total scatter matrix: ', rank_t)"
   ]
  },
  {
   "cell_type": "code",
   "execution_count": 8,
   "metadata": {},
   "outputs": [],
   "source": [
    "# PCA\n",
    "M_pca = 100\n",
    "\n",
    "eigvals, eigvecs = np.linalg.eigh(St)\n",
    "\n",
    "sorted_indices = np.argsort(eigvals)[::-1]\n",
    "\n",
    "eigvals = eigvals[sorted_indices] #(2576,)\n",
    "eigvecs = eigvecs[:, sorted_indices] #(2576, 2576)\n",
    "\n",
    "W_pca = eigvecs[:, :M_pca] #(2576, M_pca)\n",
    "A_pca = np.matmul(W_pca.T, T) #(M_pca, 416)"
   ]
  },
  {
   "cell_type": "code",
   "execution_count": 9,
   "metadata": {},
   "outputs": [
    {
     "name": "stderr",
     "output_type": "stream",
     "text": [
      "No artists with labels found to put in legend.  Note that artists whose label start with an underscore are ignored when legend() is called with no argument.\n"
     ]
    },
    {
     "data": {
      "image/png": "[encoded data removed]",
      "text/plain": [
       "<Figure size 640x480 with 1 Axes>"
      ]
     },
     "metadata": {},
     "output_type": "display_data"
    }
   ],
   "source": [
    "# Plot the arrays\n",
    "plt.plot(eigvals)\n",
    "\n",
    "# Add title and labels\n",
    "plt.title(\"Eigenvalues\")\n",
    "plt.xlabel(\"Index\")\n",
    "plt.ylabel(\"Eigenvalues\")\n",
    "\n",
    "# Add a legend to distinguish the arrays\n",
    "plt.legend()\n",
    "\n",
    "# Show the plot\n",
    "plt.show()"
   ]
  },
  {
   "cell_type": "code",
   "execution_count": 10,
   "metadata": {},
   "outputs": [],
   "source": [
    "# LDA\n",
    "M_lda = 51\n",
    "\n",
    "S_lda = np.linalg.inv(W_pca.T @ Sw @ W_pca) @ (W_pca.T @ Sb @ W_pca)\n",
    "\n",
    "eigvals, eigvecs = np.linalg.eigh(S_lda)\n",
    "\n",
    "sorted_indices = np.argsort(eigvals)[::-1]\n",
    "\n",
    "eigvals = eigvals[sorted_indices] #(M_pca,)\n",
    "eigvecs = eigvecs[:, sorted_indices] #(M_pca, M_pca)\n",
    "\n",
    "W_lda = eigvecs[:, :M_lda] #(M_pca, M_lda)\n",
    "\n",
    "W_opt = np.matmul(W_pca, W_lda) #(2576, M_lda)\n",
    "A = np.matmul(W_opt.T, T) #(M_lda, 416)"
   ]
  },
  {
   "cell_type": "code",
   "execution_count": 11,
   "metadata": {},
   "outputs": [
    {
     "name": "stderr",
     "output_type": "stream",
     "text": [
      "No artists with labels found to put in legend.  Note that artists whose label start with an underscore are ignored when legend() is called with no argument.\n"
     ]
    },
    {
     "data": {
      "image/png": "[encoded data removed]",
      "text/plain": [
       "<Figure size 640x480 with 1 Axes>"
      ]
     },
     "metadata": {},
     "output_type": "display_data"
    }
   ],
   "source": [
    "# Plot the arrays\n",
    "plt.plot(eigvals)\n",
    "\n",
    "# Add title and labels\n",
    "plt.title(\"Eigenvalues\")\n",
    "plt.xlabel(\"Index\")\n",
    "plt.ylabel(\"Eigenvalues\")\n",
    "\n",
    "# Add a legend to distinguish the arrays\n",
    "plt.legend()\n",
    "\n",
    "# Show the plot\n",
    "plt.show()"
   ]
  },
  {
   "cell_type": "code",
   "execution_count": 12,
   "metadata": {},
   "outputs": [
    {
     "name": "stdout",
     "output_type": "stream",
     "text": [
      "Train Reconstruction Error: 22.88608977502502\n",
      "Test Reconstruction Error: 23.059603197031617\n"
     ]
    }
   ],
   "source": [
    "# Reconstruction\n",
    "\n",
    "# train\n",
    "x_train_rec = overall_mean + np.matmul(W_opt, A) #(2576, 416)\n",
    "\n",
    "# test\n",
    "T_test = x_test - overall_mean\n",
    "A_test = np.matmul(W_opt.T, T_test) #(M_lda, 104)\n",
    "x_test_rec = overall_mean + np.matmul(W_opt, A_test) #(2576, 104)\n",
    "\n",
    "rec_err_train = np.mean(np.abs(x_train - x_train_rec))\n",
    "print(f\"Train Reconstruction Error: {rec_err_train}\")\n",
    "\n",
    "rec_err_test = np.mean(np.abs(x_test - x_test_rec))\n",
    "print(f\"Test Reconstruction Error: {rec_err_test}\")"
   ]
  },
  {
   "cell_type": "markdown",
   "metadata": {},
   "source": [
    "**PCA-LDA based face recognition with the NN classifier**"
   ]
  },
  {
   "cell_type": "code",
   "execution_count": 7,
   "metadata": {},
   "outputs": [],
   "source": [
    "class LDA:\n",
    "    def __init__(self, M_pca=40, M_lda=20):\n",
    "        self.M_pca = M_pca\n",
    "        self.M_lda = M_lda\n",
    "    \n",
    "    def split_by_class(self, x_train, y_train):\n",
    "        y_train = y_train.flatten()\n",
    "        classes = np.unique(y_train)  # 고유 클래스 값들\n",
    "        class_dict = {}\n",
    "        \n",
    "        for cls in classes:\n",
    "            # 해당 클래스에 해당하는 인덱스 필터링\n",
    "            indices = np.where(y_train == cls)[0]\n",
    "            # 클래스별 x_train 데이터를 딕셔너리에 저장\n",
    "            class_dict[cls] = x_train[:, indices]\n",
    "        \n",
    "        return class_dict\n",
    "\n",
    "    def scatter_matrix_calculation(self, x_train, y_train):\n",
    "        class_split_x_train = self.split_by_class(x_train, y_train)\n",
    "        class_split_x_train = np.array(list(class_split_x_train.values()))\n",
    "            \n",
    "        class_mean = np.mean(class_split_x_train, axis=2) #(52,2576)\n",
    "        self.overall_mean = np.mean(x_train, axis=1).reshape(-1,1) #(2576, 1)\n",
    "\n",
    "        n_features = x_train.shape[0]\n",
    "        Sb = np.zeros((n_features, n_features))\n",
    "        Sw = np.zeros((n_features, n_features))\n",
    "\n",
    "        # total scatter matrix\n",
    "        T = x_train - self.overall_mean\n",
    "        St = np.matmul(T, T.T) / (T.shape[1]-1)\n",
    "\n",
    "        for i in range(class_split_x_train.shape[2]):\n",
    "            X = class_split_x_train[i]\n",
    "            N = X.shape[1]\n",
    "                \n",
    "            # between-class scatter matrix\n",
    "            mean_diff = class_mean[i].reshape(-1, 1) - self.overall_mean #(2576, 1)\n",
    "            Sb += N * (mean_diff).dot(mean_diff.T)\n",
    "            # within-class scatter matrix\n",
    "            for j in range(X.shape[1]):\n",
    "                x = X[:, j]\n",
    "                x = x.reshape(n_features, 1)\n",
    "                mean = class_mean[i].reshape(n_features, 1)\n",
    "                Sw += (x - mean).dot((x - mean).T)\n",
    "                \n",
    "        return St, Sw, Sb\n",
    "    \n",
    "    def fit(self, x_train, y_train):\n",
    "        # PCA\n",
    "        St, Sw, Sb = self.scatter_matrix_calculation(x_train, y_train)\n",
    "        \n",
    "        eigvals, eigvecs = np.linalg.eigh(St)\n",
    "        sorted_indices = np.argsort(eigvals)[::-1]\n",
    "        eigvals = eigvals[sorted_indices] #(2576,)\n",
    "        eigvecs = eigvecs[:, sorted_indices] #(2576, 2576)\n",
    "        W_pca = eigvecs[:, :self.M_pca] #(2576, M_pca)\n",
    "\n",
    "        # LDA\n",
    "        S_lda = np.linalg.inv(W_pca.T @ Sw @ W_pca) @ (W_pca.T @ Sb @ W_pca)\n",
    "        eigvals, eigvecs = np.linalg.eigh(S_lda)\n",
    "        sorted_indices = np.argsort(eigvals)[::-1]\n",
    "        eigvals = eigvals[sorted_indices] #(M_pca,)\n",
    "        eigvecs = eigvecs[:, sorted_indices] #(M_pca, M_pca)\n",
    "        W_lda = eigvecs[:, :self.M_lda] #(M_pca, M_lda)\n",
    "        self.W_opt = np.matmul(W_pca, W_lda) #(2576, M_lda)\n",
    "\n",
    "        x_train_proj = np.matmul(self.W_opt.T, x_train - self.overall_mean)\n",
    "        self.clf = KNeighborsClassifier(n_neighbors=1, metric='manhattan')\n",
    "        self.clf.fit(x_train_proj.T, y_train.T)\n",
    "\n",
    "    def predict(self, x_test):\n",
    "        x_test_proj = np.matmul(self.W_opt.T, x_test - self.overall_mean)\n",
    "        self.predictions = self.clf.predict(x_test_proj.T)\n",
    "    \n",
    "    def evaluate(self, y_test):\n",
    "        # recognition accuracy\n",
    "        accuracy = accuracy_score(y_test.T, self.predictions)        \n",
    "        return accuracy\n",
    "    \n",
    "    def confusion(self, y_test):\n",
    "        cm = confusion_matrix(y_test.T, self.predictions)\n",
    "        # Confusion matrix 시각화\n",
    "        plt.figure(figsize=(10, 8))\n",
    "        sns.heatmap(cm, annot=True, fmt='d', cmap='Blues', cbar=False)\n",
    "        plt.title('Confusion Matrix')\n",
    "        plt.xlabel('Predicted Label')\n",
    "        plt.ylabel('True Label')\n",
    "        plt.show()\n",
    "        \n",
    "    def reconstruction(self, x_test, plot=True, indices=[0, 1, 2]):\n",
    "        x_test_centered = x_test - self.overall_mean\n",
    "        x_test_proj = np.matmul(self.W_opt.T, x_test_centered) #(M_lda, 104)\n",
    "        x_test_rec = self.overall_mean + np.matmul(self.W_opt, x_test_proj)\n",
    "        rec_err = np.mean((x_test - x_test_rec) ** 2)\n",
    "        print(f\"Reconstruction Error: {rec_err}\")\n",
    "        \n",
    "        if plot==True:\n",
    "            # indices length >= 2\n",
    "            plt.figure()\n",
    "            f, ax = plt.subplots(1, len(indices))\n",
    "            for i, idx in enumerate(indices):\n",
    "                img = np.reshape(x_test_rec[:,idx],(46,56)).T\n",
    "                ax[i].imshow(img, cmap = 'gist_gray')"
   ]
  },
  {
   "cell_type": "code",
   "execution_count": null,
   "metadata": {},
   "outputs": [
    {
     "name": "stderr",
     "output_type": "stream",
     "text": [
      "c:\\Users\\user\\anaconda3\\envs\\env2\\lib\\site-packages\\sklearn\\neighbors\\_classification.py:233: DataConversionWarning: A column-vector y was passed when a 1d array was expected. Please change the shape of y to (n_samples,), for example using ravel().\n",
      "  return self._fit(X, y)\n"
     ]
    },
    {
     "name": "stdout",
     "output_type": "stream",
     "text": [
      "M_pca: 10, M_lda: 5, Accuracy: 35.58%\n"
     ]
    },
    {
     "name": "stderr",
     "output_type": "stream",
     "text": [
      "c:\\Users\\user\\anaconda3\\envs\\env2\\lib\\site-packages\\sklearn\\neighbors\\_classification.py:233: DataConversionWarning: A column-vector y was passed when a 1d array was expected. Please change the shape of y to (n_samples,), for example using ravel().\n",
      "  return self._fit(X, y)\n"
     ]
    },
    {
     "name": "stdout",
     "output_type": "stream",
     "text": [
      "M_pca: 10, M_lda: 10, Accuracy: 47.12%\n"
     ]
    },
    {
     "name": "stderr",
     "output_type": "stream",
     "text": [
      "c:\\Users\\user\\anaconda3\\envs\\env2\\lib\\site-packages\\sklearn\\neighbors\\_classification.py:233: DataConversionWarning: A column-vector y was passed when a 1d array was expected. Please change the shape of y to (n_samples,), for example using ravel().\n",
      "  return self._fit(X, y)\n"
     ]
    },
    {
     "name": "stdout",
     "output_type": "stream",
     "text": [
      "M_pca: 30, M_lda: 5, Accuracy: 27.88%\n"
     ]
    },
    {
     "name": "stderr",
     "output_type": "stream",
     "text": [
      "c:\\Users\\user\\anaconda3\\envs\\env2\\lib\\site-packages\\sklearn\\neighbors\\_classification.py:233: DataConversionWarning: A column-vector y was passed when a 1d array was expected. Please change the shape of y to (n_samples,), for example using ravel().\n",
      "  return self._fit(X, y)\n"
     ]
    },
    {
     "name": "stdout",
     "output_type": "stream",
     "text": [
      "M_pca: 30, M_lda: 10, Accuracy: 43.27%\n"
     ]
    },
    {
     "name": "stderr",
     "output_type": "stream",
     "text": [
      "c:\\Users\\user\\anaconda3\\envs\\env2\\lib\\site-packages\\sklearn\\neighbors\\_classification.py:233: DataConversionWarning: A column-vector y was passed when a 1d array was expected. Please change the shape of y to (n_samples,), for example using ravel().\n",
      "  return self._fit(X, y)\n"
     ]
    },
    {
     "name": "stdout",
     "output_type": "stream",
     "text": [
      "M_pca: 30, M_lda: 20, Accuracy: 53.85%\n"
     ]
    },
    {
     "name": "stderr",
     "output_type": "stream",
     "text": [
      "c:\\Users\\user\\anaconda3\\envs\\env2\\lib\\site-packages\\sklearn\\neighbors\\_classification.py:233: DataConversionWarning: A column-vector y was passed when a 1d array was expected. Please change the shape of y to (n_samples,), for example using ravel().\n",
      "  return self._fit(X, y)\n"
     ]
    },
    {
     "name": "stdout",
     "output_type": "stream",
     "text": [
      "M_pca: 30, M_lda: 30, Accuracy: 59.62%\n"
     ]
    },
    {
     "name": "stderr",
     "output_type": "stream",
     "text": [
      "c:\\Users\\user\\anaconda3\\envs\\env2\\lib\\site-packages\\sklearn\\neighbors\\_classification.py:233: DataConversionWarning: A column-vector y was passed when a 1d array was expected. Please change the shape of y to (n_samples,), for example using ravel().\n",
      "  return self._fit(X, y)\n"
     ]
    },
    {
     "name": "stdout",
     "output_type": "stream",
     "text": [
      "M_pca: 50, M_lda: 5, Accuracy: 30.77%\n"
     ]
    },
    {
     "name": "stderr",
     "output_type": "stream",
     "text": [
      "c:\\Users\\user\\anaconda3\\envs\\env2\\lib\\site-packages\\sklearn\\neighbors\\_classification.py:233: DataConversionWarning: A column-vector y was passed when a 1d array was expected. Please change the shape of y to (n_samples,), for example using ravel().\n",
      "  return self._fit(X, y)\n"
     ]
    },
    {
     "name": "stdout",
     "output_type": "stream",
     "text": [
      "M_pca: 50, M_lda: 10, Accuracy: 45.19%\n"
     ]
    },
    {
     "name": "stderr",
     "output_type": "stream",
     "text": [
      "c:\\Users\\user\\anaconda3\\envs\\env2\\lib\\site-packages\\sklearn\\neighbors\\_classification.py:233: DataConversionWarning: A column-vector y was passed when a 1d array was expected. Please change the shape of y to (n_samples,), for example using ravel().\n",
      "  return self._fit(X, y)\n"
     ]
    },
    {
     "name": "stdout",
     "output_type": "stream",
     "text": [
      "M_pca: 50, M_lda: 20, Accuracy: 50.96%\n"
     ]
    },
    {
     "name": "stderr",
     "output_type": "stream",
     "text": [
      "c:\\Users\\user\\anaconda3\\envs\\env2\\lib\\site-packages\\sklearn\\neighbors\\_classification.py:233: DataConversionWarning: A column-vector y was passed when a 1d array was expected. Please change the shape of y to (n_samples,), for example using ravel().\n",
      "  return self._fit(X, y)\n"
     ]
    },
    {
     "name": "stdout",
     "output_type": "stream",
     "text": [
      "M_pca: 50, M_lda: 30, Accuracy: 59.62%\n"
     ]
    },
    {
     "name": "stderr",
     "output_type": "stream",
     "text": [
      "c:\\Users\\user\\anaconda3\\envs\\env2\\lib\\site-packages\\sklearn\\neighbors\\_classification.py:233: DataConversionWarning: A column-vector y was passed when a 1d array was expected. Please change the shape of y to (n_samples,), for example using ravel().\n",
      "  return self._fit(X, y)\n"
     ]
    },
    {
     "name": "stdout",
     "output_type": "stream",
     "text": [
      "M_pca: 50, M_lda: 40, Accuracy: 59.62%\n"
     ]
    },
    {
     "name": "stderr",
     "output_type": "stream",
     "text": [
      "c:\\Users\\user\\anaconda3\\envs\\env2\\lib\\site-packages\\sklearn\\neighbors\\_classification.py:233: DataConversionWarning: A column-vector y was passed when a 1d array was expected. Please change the shape of y to (n_samples,), for example using ravel().\n",
      "  return self._fit(X, y)\n"
     ]
    },
    {
     "name": "stdout",
     "output_type": "stream",
     "text": [
      "M_pca: 100, M_lda: 5, Accuracy: 31.73%\n"
     ]
    },
    {
     "name": "stderr",
     "output_type": "stream",
     "text": [
      "c:\\Users\\user\\anaconda3\\envs\\env2\\lib\\site-packages\\sklearn\\neighbors\\_classification.py:233: DataConversionWarning: A column-vector y was passed when a 1d array was expected. Please change the shape of y to (n_samples,), for example using ravel().\n",
      "  return self._fit(X, y)\n"
     ]
    },
    {
     "name": "stdout",
     "output_type": "stream",
     "text": [
      "M_pca: 100, M_lda: 10, Accuracy: 43.27%\n"
     ]
    },
    {
     "name": "stderr",
     "output_type": "stream",
     "text": [
      "c:\\Users\\user\\anaconda3\\envs\\env2\\lib\\site-packages\\sklearn\\neighbors\\_classification.py:233: DataConversionWarning: A column-vector y was passed when a 1d array was expected. Please change the shape of y to (n_samples,), for example using ravel().\n",
      "  return self._fit(X, y)\n"
     ]
    },
    {
     "name": "stdout",
     "output_type": "stream",
     "text": [
      "M_pca: 100, M_lda: 20, Accuracy: 51.92%\n"
     ]
    },
    {
     "name": "stderr",
     "output_type": "stream",
     "text": [
      "c:\\Users\\user\\anaconda3\\envs\\env2\\lib\\site-packages\\sklearn\\neighbors\\_classification.py:233: DataConversionWarning: A column-vector y was passed when a 1d array was expected. Please change the shape of y to (n_samples,), for example using ravel().\n",
      "  return self._fit(X, y)\n"
     ]
    },
    {
     "name": "stdout",
     "output_type": "stream",
     "text": [
      "M_pca: 100, M_lda: 30, Accuracy: 52.88%\n"
     ]
    },
    {
     "name": "stderr",
     "output_type": "stream",
     "text": [
      "c:\\Users\\user\\anaconda3\\envs\\env2\\lib\\site-packages\\sklearn\\neighbors\\_classification.py:233: DataConversionWarning: A column-vector y was passed when a 1d array was expected. Please change the shape of y to (n_samples,), for example using ravel().\n",
      "  return self._fit(X, y)\n"
     ]
    },
    {
     "name": "stdout",
     "output_type": "stream",
     "text": [
      "M_pca: 100, M_lda: 40, Accuracy: 56.73%\n"
     ]
    },
    {
     "name": "stderr",
     "output_type": "stream",
     "text": [
      "c:\\Users\\user\\anaconda3\\envs\\env2\\lib\\site-packages\\sklearn\\neighbors\\_classification.py:233: DataConversionWarning: A column-vector y was passed when a 1d array was expected. Please change the shape of y to (n_samples,), for example using ravel().\n",
      "  return self._fit(X, y)\n"
     ]
    },
    {
     "name": "stdout",
     "output_type": "stream",
     "text": [
      "M_pca: 100, M_lda: 51, Accuracy: 57.69%\n"
     ]
    },
    {
     "name": "stderr",
     "output_type": "stream",
     "text": [
      "c:\\Users\\user\\anaconda3\\envs\\env2\\lib\\site-packages\\sklearn\\neighbors\\_classification.py:233: DataConversionWarning: A column-vector y was passed when a 1d array was expected. Please change the shape of y to (n_samples,), for example using ravel().\n",
      "  return self._fit(X, y)\n"
     ]
    },
    {
     "name": "stdout",
     "output_type": "stream",
     "text": [
      "M_pca: 200, M_lda: 5, Accuracy: 28.85%\n"
     ]
    },
    {
     "name": "stderr",
     "output_type": "stream",
     "text": [
      "c:\\Users\\user\\anaconda3\\envs\\env2\\lib\\site-packages\\sklearn\\neighbors\\_classification.py:233: DataConversionWarning: A column-vector y was passed when a 1d array was expected. Please change the shape of y to (n_samples,), for example using ravel().\n",
      "  return self._fit(X, y)\n"
     ]
    },
    {
     "name": "stdout",
     "output_type": "stream",
     "text": [
      "M_pca: 200, M_lda: 10, Accuracy: 46.15%\n"
     ]
    },
    {
     "name": "stderr",
     "output_type": "stream",
     "text": [
      "c:\\Users\\user\\anaconda3\\envs\\env2\\lib\\site-packages\\sklearn\\neighbors\\_classification.py:233: DataConversionWarning: A column-vector y was passed when a 1d array was expected. Please change the shape of y to (n_samples,), for example using ravel().\n",
      "  return self._fit(X, y)\n"
     ]
    },
    {
     "name": "stdout",
     "output_type": "stream",
     "text": [
      "M_pca: 200, M_lda: 20, Accuracy: 48.08%\n"
     ]
    },
    {
     "name": "stderr",
     "output_type": "stream",
     "text": [
      "c:\\Users\\user\\anaconda3\\envs\\env2\\lib\\site-packages\\sklearn\\neighbors\\_classification.py:233: DataConversionWarning: A column-vector y was passed when a 1d array was expected. Please change the shape of y to (n_samples,), for example using ravel().\n",
      "  return self._fit(X, y)\n"
     ]
    },
    {
     "name": "stdout",
     "output_type": "stream",
     "text": [
      "M_pca: 200, M_lda: 30, Accuracy: 50.96%\n"
     ]
    },
    {
     "name": "stderr",
     "output_type": "stream",
     "text": [
      "c:\\Users\\user\\anaconda3\\envs\\env2\\lib\\site-packages\\sklearn\\neighbors\\_classification.py:233: DataConversionWarning: A column-vector y was passed when a 1d array was expected. Please change the shape of y to (n_samples,), for example using ravel().\n",
      "  return self._fit(X, y)\n"
     ]
    },
    {
     "name": "stdout",
     "output_type": "stream",
     "text": [
      "M_pca: 200, M_lda: 40, Accuracy: 58.65%\n"
     ]
    },
    {
     "name": "stderr",
     "output_type": "stream",
     "text": [
      "c:\\Users\\user\\anaconda3\\envs\\env2\\lib\\site-packages\\sklearn\\neighbors\\_classification.py:233: DataConversionWarning: A column-vector y was passed when a 1d array was expected. Please change the shape of y to (n_samples,), for example using ravel().\n",
      "  return self._fit(X, y)\n"
     ]
    },
    {
     "name": "stdout",
     "output_type": "stream",
     "text": [
      "M_pca: 200, M_lda: 51, Accuracy: 59.62%\n"
     ]
    },
    {
     "name": "stderr",
     "output_type": "stream",
     "text": [
      "c:\\Users\\user\\anaconda3\\envs\\env2\\lib\\site-packages\\sklearn\\neighbors\\_classification.py:233: DataConversionWarning: A column-vector y was passed when a 1d array was expected. Please change the shape of y to (n_samples,), for example using ravel().\n",
      "  return self._fit(X, y)\n"
     ]
    },
    {
     "name": "stdout",
     "output_type": "stream",
     "text": [
      "M_pca: 364, M_lda: 5, Accuracy: 30.77%\n"
     ]
    },
    {
     "name": "stderr",
     "output_type": "stream",
     "text": [
      "c:\\Users\\user\\anaconda3\\envs\\env2\\lib\\site-packages\\sklearn\\neighbors\\_classification.py:233: DataConversionWarning: A column-vector y was passed when a 1d array was expected. Please change the shape of y to (n_samples,), for example using ravel().\n",
      "  return self._fit(X, y)\n"
     ]
    },
    {
     "name": "stdout",
     "output_type": "stream",
     "text": [
      "M_pca: 364, M_lda: 10, Accuracy: 37.50%\n"
     ]
    },
    {
     "name": "stderr",
     "output_type": "stream",
     "text": [
      "c:\\Users\\user\\anaconda3\\envs\\env2\\lib\\site-packages\\sklearn\\neighbors\\_classification.py:233: DataConversionWarning: A column-vector y was passed when a 1d array was expected. Please change the shape of y to (n_samples,), for example using ravel().\n",
      "  return self._fit(X, y)\n"
     ]
    },
    {
     "name": "stdout",
     "output_type": "stream",
     "text": [
      "M_pca: 364, M_lda: 20, Accuracy: 45.19%\n"
     ]
    },
    {
     "name": "stderr",
     "output_type": "stream",
     "text": [
      "c:\\Users\\user\\anaconda3\\envs\\env2\\lib\\site-packages\\sklearn\\neighbors\\_classification.py:233: DataConversionWarning: A column-vector y was passed when a 1d array was expected. Please change the shape of y to (n_samples,), for example using ravel().\n",
      "  return self._fit(X, y)\n"
     ]
    },
    {
     "name": "stdout",
     "output_type": "stream",
     "text": [
      "M_pca: 364, M_lda: 30, Accuracy: 50.96%\n"
     ]
    },
    {
     "name": "stderr",
     "output_type": "stream",
     "text": [
      "c:\\Users\\user\\anaconda3\\envs\\env2\\lib\\site-packages\\sklearn\\neighbors\\_classification.py:233: DataConversionWarning: A column-vector y was passed when a 1d array was expected. Please change the shape of y to (n_samples,), for example using ravel().\n",
      "  return self._fit(X, y)\n"
     ]
    },
    {
     "name": "stdout",
     "output_type": "stream",
     "text": [
      "M_pca: 364, M_lda: 40, Accuracy: 49.04%\n",
      "M_pca: 364, M_lda: 51, Accuracy: 54.81%\n"
     ]
    },
    {
     "name": "stderr",
     "output_type": "stream",
     "text": [
      "c:\\Users\\user\\anaconda3\\envs\\env2\\lib\\site-packages\\sklearn\\neighbors\\_classification.py:233: DataConversionWarning: A column-vector y was passed when a 1d array was expected. Please change the shape of y to (n_samples,), for example using ravel().\n",
      "  return self._fit(X, y)\n"
     ]
    },
    {
     "ename": "AttributeError",
     "evalue": "'list' object has no attribute 'T'",
     "output_type": "error",
     "traceback": [
      "\u001b[1;31m---------------------------------------------------------------------------\u001b[0m",
      "\u001b[1;31mAttributeError\u001b[0m                            Traceback (most recent call last)",
      "Cell \u001b[1;32mIn[23], line 15\u001b[0m\n\u001b[0;32m     12\u001b[0m             \u001b[38;5;28mprint\u001b[39m(\u001b[38;5;124mf\u001b[39m\u001b[38;5;124m\"\u001b[39m\u001b[38;5;124mM_pca: \u001b[39m\u001b[38;5;132;01m{\u001b[39;00mM_pca\u001b[38;5;132;01m}\u001b[39;00m\u001b[38;5;124m, M_lda: \u001b[39m\u001b[38;5;132;01m{\u001b[39;00mM_lda\u001b[38;5;132;01m}\u001b[39;00m\u001b[38;5;124m, Accuracy: \u001b[39m\u001b[38;5;132;01m{\u001b[39;00maccuracy\u001b[38;5;250m \u001b[39m\u001b[38;5;241m*\u001b[39m\u001b[38;5;250m \u001b[39m\u001b[38;5;241m100\u001b[39m\u001b[38;5;132;01m:\u001b[39;00m\u001b[38;5;124m.2f\u001b[39m\u001b[38;5;132;01m}\u001b[39;00m\u001b[38;5;124m%\u001b[39m\u001b[38;5;124m\"\u001b[39m)\n\u001b[0;32m     13\u001b[0m             acc_results\u001b[38;5;241m.\u001b[39mappend([M_pca, M_lda, accuracy])\n\u001b[1;32m---> 15\u001b[0m acc_results \u001b[38;5;241m=\u001b[39m \u001b[43macc_results\u001b[49m\u001b[38;5;241;43m.\u001b[39;49m\u001b[43mT\u001b[49m\n",
      "\u001b[1;31mAttributeError\u001b[0m: 'list' object has no attribute 'T'"
     ]
    }
   ],
   "source": [
    "M_pca_ = [10, 30, 50, 100, 200, 364] # <= N-c = 416-52= 364\n",
    "M_lda_ = [5, 10, 20, 30, 40, 51] # <= c-1 = 52-1 = 51\n",
    "acc_results = []\n",
    "for M_pca in M_pca_:\n",
    "    for M_lda in M_lda_:\n",
    "        if M_pca >= M_lda:\n",
    "            lda = LDA(M_pca=M_pca, M_lda=M_lda)\n",
    "            lda.fit(x_train, y_train)\n",
    "            lda.predict(x_test)\n",
    "            # Calculate Accuracy\n",
    "            accuracy = lda.evaluate(y_test)\n",
    "            print(f\"M_pca: {M_pca}, M_lda: {M_lda}, Accuracy: {accuracy * 100:.2f}%\")\n",
    "            acc_results.append([M_pca, M_lda, accuracy])\n",
    "            \n",
    "acc_results = np.array(acc_results).T"
   ]
  },
  {
   "cell_type": "code",
   "execution_count": 45,
   "metadata": {},
   "outputs": [
    {
     "name": "stderr",
     "output_type": "stream",
     "text": [
      "C:\\Users\\user\\AppData\\Local\\Temp\\ipykernel_4148\\2023821432.py:7: FutureWarning: In a future version of pandas all arguments of DataFrame.pivot will be keyword-only.\n",
      "  heatmap_data = df.pivot(\"M_pca\", \"M_lda\", \"Accuracy\")\n"
     ]
    },
    {
     "data": {
      "image/png": "[encoded data removed]",
      "text/plain": [
       "<Figure size 1000x800 with 2 Axes>"
      ]
     },
     "metadata": {},
     "output_type": "display_data"
    }
   ],
   "source": [
    "# M_pca, M_lda에 따른 recognition accuracy\n",
    "df = pd.DataFrame({\n",
    "    'M_pca': acc_results[0].astype(int),\n",
    "    'M_lda': acc_results[1].astype(int),\n",
    "    'Accuracy': acc_results[2]\n",
    "})\n",
    "heatmap_data = df.pivot(\"M_pca\", \"M_lda\", \"Accuracy\")\n",
    "\n",
    "plt.figure(figsize=(10, 8))\n",
    "sns.heatmap(heatmap_data, annot=True, cmap=\"viridis\", fmt=\".3f\")\n",
    "plt.title(\"Accuracy by M_pca and M_lda\")\n",
    "plt.show()"
   ]
  },
  {
   "cell_type": "code",
   "execution_count": 43,
   "metadata": {},
   "outputs": [
    {
     "name": "stdout",
     "output_type": "stream",
     "text": [
      "Reconstruction Error: 1102.362297198451\n"
     ]
    },
    {
     "data": {
      "text/plain": [
       "<Figure size 640x480 with 0 Axes>"
      ]
     },
     "metadata": {},
     "output_type": "display_data"
    },
    {
     "data": {
      "image/png": "[encoded data removed]",
      "text/plain": [
       "<Figure size 640x480 with 3 Axes>"
      ]
     },
     "metadata": {},
     "output_type": "display_data"
    }
   ],
   "source": [
    "lda.reconstruction(x_test)"
   ]
  },
  {
   "cell_type": "markdown",
   "metadata": {},
   "source": [
    "**Ensemble Learning**"
   ]
  },
  {
   "cell_type": "markdown",
   "metadata": {},
   "source": [
    "randomisation in feature space \n",
    "\n",
    "M0 개의 largest eigenvector<br/>\n",
    "M1 개의 random eigenvector (nonzero)"
   ]
  },
  {
   "cell_type": "code",
   "execution_count": 46,
   "metadata": {},
   "outputs": [],
   "source": [
    "class LDA_random_feature(LDA):\n",
    "    def __init__(self, M0=30, M1=30, M_lda=30, t=4, k=1, fusion='majority'):\n",
    "        self.M0 = M0\n",
    "        self.M1 = M1\n",
    "        self.M_lda = M_lda\n",
    "        self.t = t\n",
    "        self.k = k\n",
    "        self.fusion = fusion\n",
    "        self.W_opts = []\n",
    "        self.clfs = []\n",
    "\n",
    "    \n",
    "    def fit(self, x_train, y_train):\n",
    "        St, Sw, Sb = super().scatter_matrix_calculation(x_train, y_train)\n",
    "\n",
    "        # PCA\n",
    "        eigvals, eigvecs = np.linalg.eigh(St)\n",
    "        nonzero = eigvals>=0.00001\n",
    "        eigvals = eigvals[nonzero]\n",
    "        eigvecs = eigvecs[:, nonzero]\n",
    "        sorted_indices = np.argsort(eigvals)[::-1]\n",
    "        \n",
    "        # random feature selection & LDA\n",
    "        for t in range(self.t):\n",
    "            indices = np.concatenate((sorted_indices[:self.M0], np.random.choice(sorted_indices[self.M0:], self.M1, replace=False)))\n",
    "            W_pca = eigvecs[:, indices] #(2576, M0+M1)\n",
    "            # LDA\n",
    "            S_lda = np.linalg.inv(W_pca.T @ Sw @ W_pca) @ (W_pca.T @ Sb @ W_pca)\n",
    "            \n",
    "            eigvals_lda, eigvecs_lda = np.linalg.eigh(S_lda)\n",
    "            sorted_indices_lda = np.argsort(eigvals_lda)[::-1]\n",
    "            eigvals_lda = eigvals_lda[sorted_indices_lda] #(M_pca,)\n",
    "            eigvecs_lda = eigvecs_lda[:, sorted_indices_lda] #(M_pca, M_pca)\n",
    "            W_lda = eigvecs_lda[:, :self.M_lda] #(M_pca, M_lda)\n",
    "            W_opt = np.matmul(W_pca, W_lda) #(2576, M_lda)\n",
    "            self.W_opts.append(W_opt)\n",
    "\n",
    "        for t in range(self.t):\n",
    "            clf = KNeighborsClassifier(n_neighbors=self.k, metric='manhattan')\n",
    "\n",
    "            W_opt = self.W_opts[t]\n",
    "            # projection of training images\n",
    "            x_train_proj = np.matmul(W_opt.T, x_train - self.overall_mean)\n",
    "            clf.fit(x_train_proj.T, y_train.reshape(-1))\n",
    "            self.clfs.append(clf)\n",
    "            \n",
    "    def predict(self, x_test):\n",
    "        x_test_proj = []\n",
    "        \n",
    "        for t in range(self.t):\n",
    "            x_test_proj.append(np.matmul(self.W_opts[t].T, x_test - self.overall_mean))\n",
    "        self.pred_indiv = np.array([clf.predict(x_test_proj[t].T) for t, clf in enumerate(self.clfs)])\n",
    "        \n",
    "        if self.fusion == 'majority':\n",
    "            preds = np.array([clf.predict(x_test_proj[t].T) for t, clf in enumerate(self.clfs)])\n",
    "            self.predictions = mode(preds, axis=0).mode[0]\n",
    "\n",
    "        if self.fusion == 'sum':\n",
    "            preds = np.array([clf.predict_proba(x_test_proj[t].T) for t, clf in enumerate(self.clfs)])\n",
    "            self.predictions = np.argmax(np.mean(preds, axis=0), axis=1) + 1\n",
    "\n",
    "        if self.fusion == 'product':\n",
    "            epsilon = 1e-10\n",
    "            log_probs = np.array([np.log(np.maximum(clf.predict_proba(x_test_proj[t].T), epsilon)) for t, clf in enumerate(self.clfs)])\n",
    "            final_probs = np.exp(np.sum(log_probs, axis=0))\n",
    "            final_probs /= final_probs.sum(axis=1, keepdims=True)\n",
    "            self.predictions = np.argmax(final_probs, axis=1) + 1\n",
    "\n",
    "    def evaluate(self, y_test):\n",
    "        # recognition accuracy\n",
    "        acc_indiv = np.mean([accuracy_score(y_test.T, self.pred_indiv[t]) for t in range(self.t)])\n",
    "        accuracy = accuracy_score(y_test.T, self.predictions)\n",
    "        \n",
    "        print(f\"Individual Test Accuracy: {acc_indiv * 100:.2f}%\")\n",
    "        print(f\"Final Test Accuracy: {accuracy * 100:.2f}%\")\n",
    "        \n",
    "        return acc_indiv, accuracy"
   ]
  },
  {
   "cell_type": "code",
   "execution_count": 47,
   "metadata": {},
   "outputs": [
    {
     "name": "stderr",
     "output_type": "stream",
     "text": [
      "C:\\Users\\user\\AppData\\Local\\Temp\\ipykernel_4148\\2544949987.py:56: FutureWarning: Unlike other reduction functions (e.g. `skew`, `kurtosis`), the default behavior of `mode` typically preserves the axis it acts along. In SciPy 1.11.0, this behavior will change: the default value of `keepdims` will become False, the `axis` over which the statistic is taken will be eliminated, and the value None will no longer be accepted. Set `keepdims` to True or False to avoid this warning.\n",
      "  self.predictions = mode(preds, axis=0).mode[0]\n"
     ]
    },
    {
     "name": "stdout",
     "output_type": "stream",
     "text": [
      "None\n",
      "Individual Test Accuracy: 50.24%\n",
      "Final Test Accuracy: 56.73%\n",
      "None\n",
      "Individual Test Accuracy: 52.64%\n",
      "Final Test Accuracy: 62.50%\n",
      "None\n",
      "Individual Test Accuracy: 55.05%\n",
      "Final Test Accuracy: 64.42%\n"
     ]
    },
    {
     "data": {
      "text/plain": [
       "(0.5504807692307693, 0.6442307692307693)"
      ]
     },
     "execution_count": 47,
     "metadata": {},
     "output_type": "execute_result"
    }
   ],
   "source": [
    "lda_ensemble = LDA_random_feature(fusion='majority')\n",
    "lda_ensemble.fit(x_train, y_train)\n",
    "print(lda_ensemble.predict(x_test))\n",
    "lda_ensemble.evaluate(y_test)\n",
    "\n",
    "lda_ensemble = LDA_random_feature(fusion='sum')\n",
    "lda_ensemble.fit(x_train, y_train)\n",
    "print(lda_ensemble.predict(x_test))\n",
    "lda_ensemble.evaluate(y_test)\n",
    "\n",
    "lda_ensemble = LDA_random_feature(fusion='product')\n",
    "lda_ensemble.fit(x_train, y_train)\n",
    "print(lda_ensemble.predict(x_test))\n",
    "lda_ensemble.evaluate(y_test)"
   ]
  },
  {
   "cell_type": "markdown",
   "metadata": {},
   "source": [
    "Bagging<br/>\n",
    "randomisation on data samples\n",
    "\n",
    "데이터 쪼개고 나머진 안 건드려서 knn model 만들기"
   ]
  },
  {
   "cell_type": "code",
   "execution_count": 18,
   "metadata": {},
   "outputs": [],
   "source": [
    "class LDA_bagging(LDA):\n",
    "    def __init__(self, M_pca=40, M_lda=20, n_dataset=4, n_samples=200, k=1, fusion='majority'):\n",
    "        self.M_pca = M_pca\n",
    "        self.M_lda = M_lda\n",
    "        self.n_dataset = n_dataset\n",
    "        self.n_samples = n_samples\n",
    "        self.k = k\n",
    "        self.fusion = fusion\n",
    "        self.clfs = []\n",
    "    \n",
    "    def bagging(self, x_train, y_train):\n",
    "        x_bagging = []\n",
    "        y_bagging = []\n",
    "            \n",
    "        for t in range(self.n_dataset):\n",
    "            sss = StratifiedShuffleSplit(n_splits=1, train_size=self.n_samples, random_state=t)\n",
    "            # StratifiedShuffleSplit으로 샘플링\n",
    "            for train_idx, _ in sss.split(x_train.T, y_train.T):\n",
    "                x_resampled = x_train[:, train_idx]\n",
    "                y_resampled = y_train[:, train_idx]\n",
    "            x_bagging.append(x_resampled)\n",
    "            y_bagging.append(y_resampled)\n",
    "            \n",
    "        x_bagging = np.array(x_bagging) #(n_dataset, 415, n_samples)\n",
    "        y_bagging = np.array(y_bagging) #(n_dataset, 1, n_samples)\n",
    "            \n",
    "        return x_bagging, y_bagging\n",
    "        \n",
    "    def fit(self, x_train, y_train):\n",
    "        St, Sw, Sb = super().scatter_matrix_calculation(x_train, y_train)\n",
    "        \n",
    "        # PCA\n",
    "        eigvals, eigvecs = np.linalg.eigh(St)\n",
    "        sorted_indices = np.argsort(eigvals)[::-1]\n",
    "        eigvals = eigvals[sorted_indices] #(2576,)\n",
    "        eigvecs = eigvecs[:, sorted_indices] #(2576, 2576)\n",
    "        W_pca = eigvecs[:, :self.M_pca]\n",
    "        \n",
    "        # LDA\n",
    "        S_lda = np.linalg.inv(W_pca.T @ Sw @ W_pca) @ (W_pca.T @ Sb @ W_pca)\n",
    "        eigvals_lda, eigvecs_lda = np.linalg.eigh(S_lda)\n",
    "        sorted_indices_lda = np.argsort(eigvals_lda)[::-1]\n",
    "        eigvals_lda = eigvals_lda[sorted_indices_lda] #(M_pca,)\n",
    "        eigvecs_lda = eigvecs_lda[:, sorted_indices_lda] #(M_pca, M_pca)\n",
    "        W_lda = eigvecs_lda[:, :self.M_lda] #(M_pca, M_lda)\n",
    "        self.W_opt = np.matmul(W_pca, W_lda)\n",
    "        \n",
    "        # bagging\n",
    "        x_train_proj = np.matmul(self.W_opt.T, x_train - self.overall_mean)\n",
    "        x_bagging, y_bagging = self.bagging(x_train_proj, y_train)\n",
    "\n",
    "        for t in range(self.n_dataset):\n",
    "            clf = KNeighborsClassifier(n_neighbors=self.k, metric='manhattan')\n",
    "            clf.fit(x_bagging[t].T, y_bagging[t].T)\n",
    "            self.clfs.append(clf)\n",
    "            \n",
    "    def predict(self, x_test):\n",
    "        x_test_proj = np.matmul(self.W_opt.T, x_test - self.overall_mean)\n",
    "        \n",
    "        # the predictions of individual models\n",
    "        self.pred_indiv = np.array([clf.predict(x_test_proj.T) for clf in self.clfs])\n",
    "\n",
    "        # the prediction of the committee machine with fusion rule\n",
    "        if self.fusion == 'majority':\n",
    "            preds = np.array([clf.predict(x_test_proj.T) for clf in self.clfs])\n",
    "            self.predictions = mode(preds, axis=0).mode[0]\n",
    "\n",
    "        if self.fusion == 'sum':\n",
    "            preds = np.array([clf.predict_proba(x_test_proj.T) for clf in self.clfs])\n",
    "            self.predictions = np.argmax(np.mean(preds, axis=0), axis=1) + 1\n",
    "\n",
    "        if self.fusion == 'product':\n",
    "            epsilon = 1e-10\n",
    "            log_probs = np.array([np.log(np.maximum(clf.predict_proba(x_test_proj.T), epsilon)) for clf in self.clfs])\n",
    "            final_probs = np.exp(np.sum(log_probs, axis=0))\n",
    "            final_probs /= final_probs.sum(axis=1, keepdims=True)\n",
    "            self.predictions = np.argmax(final_probs, axis=1) + 1\n",
    "\n",
    "    def evaluate(self, y_test):\n",
    "        # recognition accuracy\n",
    "        acc_indiv = np.mean([accuracy_score(y_test.T, self.pred_indiv[t]) for t in range(self.n_dataset)])\n",
    "        accuracy = accuracy_score(y_test.T, self.predictions)\n",
    "        \n",
    "        print(f\"Individual Test Accuracy: {acc_indiv * 100:.2f}%\")\n",
    "        print(f\"Final Test Accuracy: {accuracy * 100:.2f}%\")\n",
    "        \n",
    "        return acc_indiv, accuracy"
   ]
  },
  {
   "cell_type": "code",
   "execution_count": 19,
   "metadata": {},
   "outputs": [
    {
     "name": "stderr",
     "output_type": "stream",
     "text": [
      "c:\\Users\\user\\anaconda3\\envs\\env2\\lib\\site-packages\\sklearn\\neighbors\\_classification.py:233: DataConversionWarning: A column-vector y was passed when a 1d array was expected. Please change the shape of y to (n_samples,), for example using ravel().\n",
      "  return self._fit(X, y)\n",
      "c:\\Users\\user\\anaconda3\\envs\\env2\\lib\\site-packages\\sklearn\\neighbors\\_classification.py:233: DataConversionWarning: A column-vector y was passed when a 1d array was expected. Please change the shape of y to (n_samples,), for example using ravel().\n",
      "  return self._fit(X, y)\n",
      "c:\\Users\\user\\anaconda3\\envs\\env2\\lib\\site-packages\\sklearn\\neighbors\\_classification.py:233: DataConversionWarning: A column-vector y was passed when a 1d array was expected. Please change the shape of y to (n_samples,), for example using ravel().\n",
      "  return self._fit(X, y)\n",
      "c:\\Users\\user\\anaconda3\\envs\\env2\\lib\\site-packages\\sklearn\\neighbors\\_classification.py:233: DataConversionWarning: A column-vector y was passed when a 1d array was expected. Please change the shape of y to (n_samples,), for example using ravel().\n",
      "  return self._fit(X, y)\n",
      "C:\\Users\\user\\AppData\\Local\\Temp\\ipykernel_4148\\2917980779.py:66: FutureWarning: Unlike other reduction functions (e.g. `skew`, `kurtosis`), the default behavior of `mode` typically preserves the axis it acts along. In SciPy 1.11.0, this behavior will change: the default value of `keepdims` will become False, the `axis` over which the statistic is taken will be eliminated, and the value None will no longer be accepted. Set `keepdims` to True or False to avoid this warning.\n",
      "  self.predictions = mode(preds, axis=0).mode[0]\n"
     ]
    },
    {
     "name": "stdout",
     "output_type": "stream",
     "text": [
      "Individual Test Accuracy: 40.62%\n",
      "Final Test Accuracy: 42.31%\n",
      "Reconstruction Error: 1069.4927573724754\n"
     ]
    },
    {
     "data": {
      "text/plain": [
       "<Figure size 640x480 with 0 Axes>"
      ]
     },
     "metadata": {},
     "output_type": "display_data"
    },
    {
     "data": {
      "image/png": "[encoded data removed]",
      "text/plain": [
       "<Figure size 640x480 with 3 Axes>"
      ]
     },
     "metadata": {},
     "output_type": "display_data"
    }
   ],
   "source": [
    "lda_ensemble = LDA_bagging()\n",
    "lda_ensemble.fit(x_train, y_train)\n",
    "lda_ensemble.predict(x_test)\n",
    "lda_ensemble.evaluate(y_test)\n",
    "lda_ensemble.reconstruction(x_test)"
   ]
  }
 ],
 "metadata": {
  "kernelspec": {
   "display_name": "env2",
   "language": "python",
   "name": "env2"
  },
  "language_info": {
   "codemirror_mode": {
    "name": "ipython",
    "version": 3
   },
   "file_extension": ".py",
   "mimetype": "text/x-python",
   "name": "python",
   "nbconvert_exporter": "python",
   "pygments_lexer": "ipython3",
   "version": "3.8.12"
  }
 },
 "nbformat": 4,
 "nbformat_minor": 2
}
