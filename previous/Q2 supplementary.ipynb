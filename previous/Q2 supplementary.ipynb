{
 "cells": [
  {
   "cell_type": "markdown",
   "metadata": {
    "id": "gqaNg22dIQYk"
   },
   "source": [
    "## **Data Load**"
   ]
  },
  {
   "cell_type": "code",
   "execution_count": 1,
   "metadata": {},
   "outputs": [],
   "source": [
    "# import all library\n",
    "import scipy.io as sio\n",
    "import numpy as np\n",
    "import matplotlib.pyplot as plt\n",
    "from sklearn.decomposition import PCA\n",
    "from sklearn.decomposition import IncrementalPCA\n",
    "from sklearn.neighbors import KNeighborsClassifier\n",
    "from sklearn.metrics import accuracy_score\n",
    "import time\n",
    "import tracemalloc\n",
    "from scipy.linalg import orth"
   ]
  },
  {
   "cell_type": "code",
   "execution_count": 2,
   "metadata": {
    "colab": {
     "base_uri": "https://localhost:8080/"
    },
    "id": "kvKXTR5vIKod",
    "outputId": "292750b3-4f4b-40bc-dc47-739c24820059"
   },
   "outputs": [
    {
     "name": "stdout",
     "output_type": "stream",
     "text": [
      "Training set shape: (2576, 416)\n",
      "Test set shape: (2576, 104)\n"
     ]
    }
   ],
   "source": [
    "mat_content = sio.loadmat('assets/face.mat')\n",
    "# mat_content # Let's see the content...\n",
    "\n",
    "face_data = mat_content['X']\n",
    "face_labels = mat_content['l']\n",
    "\n",
    "x_train, x_test, y_train, y_test = [], [], [], []\n",
    "\n",
    "n_classes = 52\n",
    "images_per_class = 10\n",
    "\n",
    "for i in range(n_classes):\n",
    "    start_idx = i * images_per_class\n",
    "    end_idx = start_idx + images_per_class\n",
    "\n",
    "    x_train.append(face_data[:, start_idx:start_idx+8])\n",
    "    x_test.append(face_data[:, start_idx+8:end_idx])\n",
    "\n",
    "    y_train.append(face_labels[:, start_idx:start_idx+8])\n",
    "    y_test.append(face_labels[:, start_idx+8:end_idx])\n",
    "\n",
    "x_train, x_test = np.hstack(x_train), np.hstack(x_test)\n",
    "y_train, y_test = np.hstack(y_train), np.hstack(y_test)\n",
    "\n",
    "x_train = x_train.astype(np.int64)\n",
    "x_test = x_test.astype(np.int64)\n",
    "\n",
    "# Output the shapes of the training and testing sets\n",
    "print(f\"Training set shape: {x_train.shape}\")\n",
    "print(f\"Test set shape: {x_test.shape}\")"
   ]
  },
  {
   "cell_type": "markdown",
   "metadata": {
    "id": "esnkRq0-IV_R"
   },
   "source": [
    "## **Q2. Incremental PCA**"
   ]
  },
  {
   "cell_type": "markdown",
   "metadata": {
    "id": "FKqn9RwZIqXy"
   },
   "source": [
    "creating subdatasets"
   ]
  },
  {
   "cell_type": "code",
   "execution_count": 3,
   "metadata": {
    "id": "oPbhJMvHIOul"
   },
   "outputs": [],
   "source": [
    "x_sub1, x_sub2, x_sub3, x_sub4 = [], [], [], []\n",
    "y_sub1, y_sub2, y_sub3, y_sub4 = [], [], [], []\n",
    "\n",
    "n_classes = 52\n",
    "images_per_class = 8\n",
    "\n",
    "for i in range(n_classes):\n",
    "  x_sub1.append(x_train[:,i*images_per_class :i*images_per_class + 2])\n",
    "  x_sub2.append(x_train[:,i*images_per_class+2 :i*images_per_class + 4])\n",
    "  x_sub3.append(x_train[:,i*images_per_class+4 :i*images_per_class + 6])\n",
    "  x_sub4.append(x_train[:,i*images_per_class+6 :i*images_per_class + 8])\n",
    "\n",
    "  y_sub1.append(y_train[:,i*images_per_class :i*images_per_class + 2])\n",
    "  y_sub2.append(y_train[:,i*images_per_class+2 :i*images_per_class + 4])\n",
    "  y_sub3.append(y_train[:,i*images_per_class+4 :i*images_per_class + 6])\n",
    "  y_sub4.append(y_train[:,i*images_per_class+6 :i*images_per_class + 8])\n",
    "\n",
    "x_sub1, x_sub2, x_sub3, x_sub4 = np.hstack(x_sub1), np.hstack(x_sub2), np.hstack(x_sub3), np.hstack(x_sub4)\n",
    "y_sub1, y_sub2, y_sub3, y_sub4 = np.hstack(y_sub1), np.hstack(y_sub2), np.hstack(y_sub3), np.hstack(y_sub4)\n",
    "\n",
    "x_subs = [x_sub1, x_sub2, x_sub3, x_sub4]\n",
    "y_subs = [y_sub1, y_sub2, y_sub3, y_sub4]"
   ]
  },
  {
   "cell_type": "markdown",
   "metadata": {},
   "source": [
    "Eigenvecs 직접 구한 버전"
   ]
  },
  {
   "cell_type": "code",
   "execution_count": 4,
   "metadata": {},
   "outputs": [],
   "source": [
    "def get_mean_cov_mat(x_train):\n",
    "    x_train_bar = np.average(x_train, axis=1).reshape(-1,1)\n",
    "    A = x_train - x_train_bar\n",
    "    S = np.matmul(A, A.T) / A.shape[1]\n",
    "    return x_train_bar, S"
   ]
  },
  {
   "cell_type": "code",
   "execution_count": 5,
   "metadata": {},
   "outputs": [],
   "source": [
    "def get_sorted_egivecs(n_components, eigvals, eigvecs):\n",
    "    sorted_indices = np.argsort(eigvals)[::-1]\n",
    "    eigvals = eigvals[sorted_indices]\n",
    "    eigvecs = eigvecs[:, sorted_indices]\n",
    "    eigvecs_n_comp = eigvecs[:, :n_components]\n",
    "\n",
    "    return eigvecs_n_comp"
   ]
  },
  {
   "cell_type": "code",
   "execution_count": 6,
   "metadata": {},
   "outputs": [
    {
     "name": "stdout",
     "output_type": "stream",
     "text": [
      "Reconstruction Error with eigenvectors (MAE): 15.01\n",
      "Accuracy: 59.62%\n",
      "Peak memory usage: 212.430322 MB\n",
      "Execution Time: 4.13985479 seconds\n"
     ]
    }
   ],
   "source": [
    "def inc_pca(n_components, x_sub1, x_sub2, x_sub3, x_sub4, y_train, x_test, y_test):\n",
    "    x_bar1, S_1 = get_mean_cov_mat(x_sub1)\n",
    "    x_bar2, S_2 = get_mean_cov_mat(x_sub2)\n",
    "    x_bar3, S_3 = get_mean_cov_mat(x_sub3)\n",
    "    x_bar4, S_4 = get_mean_cov_mat(x_sub4)\n",
    "\n",
    "    # only measure eigen-decomposition\n",
    "    tracemalloc.start()\n",
    "    start_time = time.perf_counter()\n",
    "    # Get eigenvectors from each sub dataset\n",
    "    eigvals1, eigvecs1 = np.linalg.eigh(S_1)\n",
    "    eigvals2, eigvecs2 = np.linalg.eigh(S_2)\n",
    "    eigvals3, eigvecs3 = np.linalg.eigh(S_3)\n",
    "    eigvals4, eigvecs4 = np.linalg.eigh(S_4)\n",
    "\n",
    "    run_time = time.perf_counter() - start_time\n",
    "    _, peak_memory = tracemalloc.get_traced_memory()\n",
    "    tracemalloc.stop()\n",
    "\n",
    "    P1 = get_sorted_egivecs(n_components, eigvals1, eigvecs1)\n",
    "    P2 = get_sorted_egivecs(n_components, eigvals2, eigvecs2)\n",
    "    P3 = get_sorted_egivecs(n_components, eigvals3, eigvecs3)\n",
    "    P4 = get_sorted_egivecs(n_components, eigvals4, eigvecs4)\n",
    "\n",
    "\n",
    "    # Incremental PCA -> merge\n",
    "    combined_matrix = np.hstack((P1, P2))\n",
    "    Phi = orth(combined_matrix) \n",
    "    P_new = Phi[:, :n_components]\n",
    "\n",
    "    combined_matrix = np.hstack((P_new, P3))\n",
    "    Phi = orth(combined_matrix) \n",
    "    P_new = Phi[:, :n_components]\n",
    "\n",
    "    combined_matrix = np.hstack((P_new, P4))\n",
    "    Phi = orth(combined_matrix) \n",
    "    P_new = Phi[:, :n_components]\n",
    "\n",
    "    # mean update\n",
    "    # x_bar = (x_bar1 + x_bar2 + x_bar3 + x_bar4) / 4\n",
    "    x_bar = np.average(x_train, axis=1).reshape(-1,1)\n",
    "\n",
    "    # Get reconstruction Error\n",
    "    A_test = x_test - x_bar\n",
    "    W_test = np.matmul(P_new.T, A_test)\n",
    "    x_test_rec = x_bar + np.matmul(P_new, W_test)\n",
    "    rec_err = np.mean(np.abs(x_test - x_test_rec))\n",
    "    print(f\"Reconstruction Error with eigenvectors (MAE): {rec_err:.2f}\")\n",
    "\n",
    "    # Get accuracy\n",
    "    nn = KNeighborsClassifier(n_neighbors=1, metric='manhattan')\n",
    "\n",
    "    x_train_proj = np.matmul(P_new.T, x_train - x_bar)\n",
    "    x_test_proj = np.matmul(P_new.T, x_test - x_bar)\n",
    "\n",
    "    nn.fit(x_train_proj.T, y_train.reshape(-1))\n",
    "\n",
    "    y_pred = nn.predict(x_test_proj.T)\n",
    "    accuracy = accuracy_score(y_test.T, y_pred)\n",
    "    print(f\"Accuracy: {accuracy * 100:.2f}%\")\n",
    "\n",
    "    \n",
    "    return run_time, peak_memory\n",
    "    \n",
    "run_time, peak_memory = inc_pca(25, x_sub1, x_sub2, x_sub3, x_sub4, y_train, x_test, y_test)\n",
    "\n",
    "print(f\"Peak memory usage: {peak_memory / 10**6} MB\")\n",
    "print(f\"Execution Time: {run_time:.8f} seconds\")"
   ]
  },
  {
   "cell_type": "code",
   "execution_count": 7,
   "metadata": {},
   "outputs": [
    {
     "name": "stdout",
     "output_type": "stream",
     "text": [
      "Reconstruction Error with eigenvectors (MAE): 13.47\n",
      "Accuracy: 63.46%\n",
      "Peak memory usage: 53.107994 MB\n",
      "Execution Time: 1.19338225 seconds\n"
     ]
    }
   ],
   "source": [
    "def pca(n_components, x_train, y_train, x_test, y_test):\n",
    "    x_bar, S = get_mean_cov_mat(x_train)\n",
    "\n",
    "    # only measure eigen-decomposition\n",
    "    tracemalloc.start()\n",
    "    start_time = time.perf_counter()\n",
    "    # Get eigenvectors from each sub dataset\n",
    "    eigvals, eigvecs = np.linalg.eigh(S)\n",
    "\n",
    "    run_time = time.perf_counter() - start_time\n",
    "    _, peak_memory = tracemalloc.get_traced_memory()\n",
    "    tracemalloc.stop()\n",
    "\n",
    "    P = get_sorted_egivecs(n_components, eigvals, eigvecs)\n",
    "\n",
    "    # Get reconstruction Error\n",
    "    A_test = x_test - x_bar\n",
    "    W_test = np.matmul(P.T, A_test)\n",
    "    x_test_rec = x_bar + np.matmul(P, W_test)\n",
    "    rec_err = np.mean(np.abs(x_test - x_test_rec))\n",
    "    print(f\"Reconstruction Error with eigenvectors (MAE): {rec_err:.2f}\")\n",
    "\n",
    "    # Get accuracy\n",
    "    nn = KNeighborsClassifier(n_neighbors=1, metric='manhattan')\n",
    "\n",
    "    x_train_proj = np.matmul(P.T, x_train - x_bar)\n",
    "    x_test_proj = np.matmul(P.T, x_test - x_bar)\n",
    "\n",
    "    nn.fit(x_train_proj.T, y_train.reshape(-1))\n",
    "\n",
    "    y_pred = nn.predict(x_test_proj.T)\n",
    "    accuracy = accuracy_score(y_test.T, y_pred)\n",
    "    print(f\"Accuracy: {accuracy * 100:.2f}%\")\n",
    "\n",
    "    return run_time, peak_memory\n",
    "    \n",
    "\n",
    "run_time, peak_memory = pca(30, x_train, y_train, x_test, y_test)\n",
    "\n",
    "print(f\"Peak memory usage: {peak_memory / 10**6} MB\")\n",
    "print(f\"Execution Time: {run_time:.8f} seconds\")\n"
   ]
  },
  {
   "cell_type": "markdown",
   "metadata": {},
   "source": [
    "Check Incremental PCA for large datasize"
   ]
  },
  {
   "cell_type": "code",
   "execution_count": 8,
   "metadata": {},
   "outputs": [
    {
     "name": "stdout",
     "output_type": "stream",
     "text": [
      "Data Size: 10000, Batch PCA Time: 0.18 sec, Incremental PCA Time: 0.12 sec\n",
      "Data Size: 20000, Batch PCA Time: 0.37 sec, Incremental PCA Time: 0.25 sec\n",
      "Data Size: 30000, Batch PCA Time: 0.48 sec, Incremental PCA Time: 0.33 sec\n",
      "Data Size: 40000, Batch PCA Time: 0.59 sec, Incremental PCA Time: 0.47 sec\n",
      "Data Size: 50000, Batch PCA Time: 0.82 sec, Incremental PCA Time: 0.60 sec\n",
      "Data Size: 100000, Batch PCA Time: 1.31 sec, Incremental PCA Time: 1.12 sec\n"
     ]
    }
   ],
   "source": [
    "import numpy as np\n",
    "from sklearn.decomposition import PCA, IncrementalPCA\n",
    "import time\n",
    "import matplotlib.pyplot as plt\n",
    "\n",
    "# Parameters\n",
    "data_sizes = [10000, 20000, 30000, 40000, 50000, 100000]\n",
    "n_features = 50\n",
    "n_components = 10\n",
    "batch_size = 10000\n",
    "\n",
    "runtime_batch_pca = []\n",
    "runtime_incremental_pca = []\n",
    "peak_memory_batch = []\n",
    "peak_memory_ipca = []\n",
    "\n",
    "for size in data_sizes:\n",
    "    data = np.random.rand(size, n_features)\n",
    "    \n",
    "    # Measure runtime for Batch PCA\n",
    "    tracemalloc.start()\n",
    "    start_time = time.process_time()\n",
    "    \n",
    "    pca = PCA(n_components=n_components)\n",
    "    pca.fit(data)\n",
    "\n",
    "    current_memory, peak_memory = tracemalloc.get_traced_memory()\n",
    "    runtime_batch_pca.append(time.process_time() - start_time)\n",
    "    tracemalloc.stop()\n",
    "    peak_memory_batch.append(peak_memory/(1024**2))\n",
    "    \n",
    "    tracemalloc.start()\n",
    "    start_time = time.process_time()\n",
    "    inc_pca = IncrementalPCA(n_components=n_components)\n",
    "    for start in range(0, size, batch_size):\n",
    "        end = min(start + batch_size, size)\n",
    "        inc_pca.partial_fit(data[start:end])\n",
    "    runtime_incremental_pca.append(time.process_time() - start_time)\n",
    "    current_memory, peak_memory = tracemalloc.get_traced_memory()\n",
    "    tracemalloc.stop()\n",
    "    peak_memory_ipca.append(peak_memory/(1024**2))\n",
    "\n",
    "    print(f\"Data Size: {size}, Batch PCA Time: {runtime_batch_pca[-1]:.2f} sec, Incremental PCA Time: {runtime_incremental_pca[-1]:.2f} sec\")\n"
   ]
  },
  {
   "cell_type": "markdown",
   "metadata": {},
   "source": []
  },
  {
   "cell_type": "code",
   "execution_count": 9,
   "metadata": {},
   "outputs": [
    {
     "data": {
      "image/png": "[encoded data removed]",
      "text/plain": [
       "<Figure size 1440x576 with 2 Axes>"
      ]
     },
     "metadata": {
      "needs_background": "light"
     },
     "output_type": "display_data"
    }
   ],
   "source": [
    "fig, axes = plt.subplots(1, 2, figsize=(20, 8))\n",
    "\n",
    "axes[0].plot(data_sizes, runtime_incremental_pca, label='Incremental PCA', marker='s', linestyle='-', color='b')\n",
    "axes[0].plot(data_sizes, runtime_batch_pca, label='Batch PCA', marker='o', linestyle='-', color='g')\n",
    "axes[0].set_xlabel('Number of Samples')\n",
    "axes[0].set_ylabel('Runtime (second)')\n",
    "axes[0].set_title(\"Runtime Comparison of Batch PCA vs Incremental PCA Across Different Data Sizes\")\n",
    "axes[0].legend()\n",
    "axes[0].grid(True)\n",
    "\n",
    "axes[1].plot(data_sizes, peak_memory_ipca, label='Incremental PCA', marker='s', linestyle='-', color='b')\n",
    "axes[1].plot(data_sizes, peak_memory_batch, label='Batch PCA', marker='o', linestyle='-', color='g')\n",
    "axes[1].set_xlabel('Number of Samples')\n",
    "axes[1].set_ylabel('Memory (MB)')\n",
    "axes[1].set_title(\"Memory Usage Comparison of Batch PCA vs Incremental PCA Across Different Data Sizes\")\n",
    "axes[1].legend()\n",
    "axes[1].grid(True)\n",
    "\n",
    "# Display the combined plot\n",
    "plt.tight_layout()  # Adjust layout for better spacing\n",
    "plt.show()"
   ]
  },
  {
   "cell_type": "markdown",
   "metadata": {},
   "source": [
    "Method in the lecture -> finding rotation matrix"
   ]
  },
  {
   "cell_type": "code",
   "execution_count": 15,
   "metadata": {},
   "outputs": [
    {
     "data": {
      "text/plain": [
       "(2576, 30)"
      ]
     },
     "execution_count": 15,
     "metadata": {},
     "output_type": "execute_result"
    }
   ],
   "source": [
    "import numpy as np\n",
    "from sklearn.decomposition import PCA\n",
    "from scipy.linalg import orth\n",
    "\n",
    "# Step 1: Perform PCA on the original and new data separately\n",
    "pca1 = PCA(n_components=30)\n",
    "pca2 = PCA(n_components=30)\n",
    "pca3 = PCA(n_components=30)\n",
    "pca4 = PCA(n_components=30)\n",
    "\n",
    "P1 = pca1.fit(x_sub1.T).components_.T\n",
    "P2 = pca2.fit(x_sub2.T).components_.T\n",
    "P3 = pca3.fit(x_sub3.T).components_.T\n",
    "P4 = pca4.fit(x_sub4.T).components_.T\n",
    "\n",
    "# Step 1: Stack P1 and P2 column-wise to form the combined matrix\n",
    "combined_matrix = np.hstack((P1, P2))\n",
    "Phi = orth(combined_matrix) \n",
    "overlap_matrix = np.dot(P1.T, Phi)\n",
    "U, _, Vt = np.linalg.svd(overlap_matrix)\n",
    "min_dim = min(U.shape[1], Vt.shape[0])\n",
    "U = U[:, :min_dim]\n",
    "Vt = Vt[:min_dim, :]\n",
    "R = np.dot(U, Vt)\n",
    "P_new = np.dot(Phi, R.T)\n",
    "\n",
    "combined_matrix = np.hstack((P_new, P3))\n",
    "Phi = orth(combined_matrix) \n",
    "overlap_matrix = np.dot(P_new.T, Phi)\n",
    "U, _, Vt = np.linalg.svd(overlap_matrix)\n",
    "min_dim = min(U.shape[1], Vt.shape[0])\n",
    "U = U[:, :min_dim]\n",
    "Vt = Vt[:min_dim, :]\n",
    "R = np.dot(U, Vt)\n",
    "P_new = np.dot(Phi, R.T)\n",
    "\n",
    "combined_matrix = np.hstack((P_new, P4))\n",
    "Phi = orth(combined_matrix) \n",
    "overlap_matrix = np.dot(P_new.T, Phi)\n",
    "U, _, Vt = np.linalg.svd(overlap_matrix)\n",
    "min_dim = min(U.shape[1], Vt.shape[0])\n",
    "U = U[:, :min_dim]\n",
    "Vt = Vt[:min_dim, :]\n",
    "R = np.dot(U, Vt)\n",
    "P_new = np.dot(Phi, R.T)\n",
    "\n",
    "P_new.shape\n"
   ]
  },
  {
   "cell_type": "code",
   "execution_count": 16,
   "metadata": {},
   "outputs": [
    {
     "name": "stdout",
     "output_type": "stream",
     "text": [
      "Reconstruction Error with eigenvectors (MAE): 16.73587031259519\n"
     ]
    }
   ],
   "source": [
    "x_train_bar = np.average(x_train, axis=1).reshape(-1,1)\n",
    "\n",
    "A_test = x_test - x_train_bar\n",
    "W_test = np.matmul(P_new.T, A_test)\n",
    "x_test_rec = x_train_bar + np.matmul(P_new, W_test)\n",
    "\n",
    "rec_err = np.mean(np.abs(x_test - x_test_rec))\n",
    "print(f\"Reconstruction Error with eigenvectors (MAE): {rec_err}\")"
   ]
  },
  {
   "cell_type": "code",
   "execution_count": 17,
   "metadata": {},
   "outputs": [
    {
     "name": "stdout",
     "output_type": "stream",
     "text": [
      "Accuracy: 64.42%\n"
     ]
    }
   ],
   "source": [
    "# Define the 1-Nearest Neighbor classifier with L1 distance (Manhattan distance)\n",
    "nn = KNeighborsClassifier(n_neighbors=1, metric='manhattan')\n",
    "\n",
    "# projection of training images\n",
    "x_train_proj = np.matmul(P_new.T, x_train - x_train_bar)\n",
    "x_test_proj = np.matmul(P_new.T, x_test - x_train_bar)\n",
    "\n",
    "nn.fit(x_train_proj.T, y_train.reshape(-1))\n",
    "\n",
    "# Model prediction\n",
    "y_pred = nn.predict(x_test_proj.T)\n",
    "\n",
    "\n",
    "# Calculate Accuracy\n",
    "accuracy = accuracy_score(y_test.T, y_pred)\n",
    "print(f\"Accuracy: {accuracy * 100:.2f}%\")"
   ]
  }
 ],
 "metadata": {
  "colab": {
   "provenance": []
  },
  "kernelspec": {
   "display_name": "base",
   "language": "python",
   "name": "python3"
  },
  "language_info": {
   "codemirror_mode": {
    "name": "ipython",
    "version": 3
   },
   "file_extension": ".py",
   "mimetype": "text/x-python",
   "name": "python",
   "nbconvert_exporter": "python",
   "pygments_lexer": "ipython3",
   "version": "3.9.12"
  }
 },
 "nbformat": 4,
 "nbformat_minor": 0
}
