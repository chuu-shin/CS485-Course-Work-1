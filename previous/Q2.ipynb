{
 "cells": [
  {
   "cell_type": "markdown",
   "metadata": {
    "id": "gqaNg22dIQYk"
   },
   "source": [
    "## **Data Load**"
   ]
  },
  {
   "cell_type": "code",
   "execution_count": 1,
   "metadata": {},
   "outputs": [],
   "source": [
    "# import all library\n",
    "import scipy.io as sio\n",
    "import numpy as np\n",
    "import matplotlib.pyplot as plt\n",
    "from sklearn.decomposition import PCA\n",
    "from sklearn.decomposition import IncrementalPCA\n",
    "from sklearn.neighbors import KNeighborsClassifier\n",
    "from sklearn.metrics import accuracy_score\n",
    "import timeit\n",
    "import tracemalloc"
   ]
  },
  {
   "cell_type": "code",
   "execution_count": 2,
   "metadata": {
    "colab": {
     "base_uri": "https://localhost:8080/"
    },
    "id": "kvKXTR5vIKod",
    "outputId": "292750b3-4f4b-40bc-dc47-739c24820059"
   },
   "outputs": [
    {
     "name": "stdout",
     "output_type": "stream",
     "text": [
      "Training set shape: (2576, 416)\n",
      "Test set shape: (2576, 104)\n"
     ]
    }
   ],
   "source": [
    "mat_content = sio.loadmat('assets/face.mat')\n",
    "# mat_content # Let's see the content...\n",
    "\n",
    "face_data = mat_content['X']\n",
    "face_labels = mat_content['l']\n",
    "\n",
    "x_train, x_test, y_train, y_test = [], [], [], []\n",
    "\n",
    "n_classes = 52\n",
    "images_per_class = 10\n",
    "\n",
    "for i in range(n_classes):\n",
    "    start_idx = i * images_per_class\n",
    "    end_idx = start_idx + images_per_class\n",
    "\n",
    "    x_train.append(face_data[:, start_idx:start_idx+8])\n",
    "    x_test.append(face_data[:, start_idx+8:end_idx])\n",
    "\n",
    "    y_train.append(face_labels[:, start_idx:start_idx+8])\n",
    "    y_test.append(face_labels[:, start_idx+8:end_idx])\n",
    "\n",
    "x_train, x_test = np.hstack(x_train), np.hstack(x_test)\n",
    "y_train, y_test = np.hstack(y_train), np.hstack(y_test)\n",
    "\n",
    "x_train = x_train.astype(np.int64)\n",
    "x_test = x_test.astype(np.int64)\n",
    "\n",
    "# Output the shapes of the training and testing sets\n",
    "print(f\"Training set shape: {x_train.shape}\")\n",
    "print(f\"Test set shape: {x_test.shape}\")"
   ]
  },
  {
   "cell_type": "markdown",
   "metadata": {
    "id": "esnkRq0-IV_R"
   },
   "source": [
    "## **Q2. Incremental PCA**"
   ]
  },
  {
   "cell_type": "markdown",
   "metadata": {
    "id": "FKqn9RwZIqXy"
   },
   "source": [
    "creating subdatasets"
   ]
  },
  {
   "cell_type": "code",
   "execution_count": 3,
   "metadata": {
    "id": "oPbhJMvHIOul"
   },
   "outputs": [],
   "source": [
    "x_sub1, x_sub2, x_sub3, x_sub4 = [], [], [], []\n",
    "y_sub1, y_sub2, y_sub3, y_sub4 = [], [], [], []\n",
    "\n",
    "n_classes = 52\n",
    "images_per_class = 8\n",
    "\n",
    "for i in range(n_classes):\n",
    "  x_sub1.append(x_train[:,i*images_per_class :i*images_per_class + 2])\n",
    "  x_sub2.append(x_train[:,i*images_per_class+2 :i*images_per_class + 4])\n",
    "  x_sub3.append(x_train[:,i*images_per_class+4 :i*images_per_class + 6])\n",
    "  x_sub4.append(x_train[:,i*images_per_class+6 :i*images_per_class + 8])\n",
    "\n",
    "  y_sub1.append(y_train[:,i*images_per_class :i*images_per_class + 2])\n",
    "  y_sub2.append(y_train[:,i*images_per_class+2 :i*images_per_class + 4])\n",
    "  y_sub3.append(y_train[:,i*images_per_class+4 :i*images_per_class + 6])\n",
    "  y_sub4.append(y_train[:,i*images_per_class+6 :i*images_per_class + 8])\n",
    "\n",
    "x_sub1, x_sub2, x_sub3, x_sub4 = np.hstack(x_sub1), np.hstack(x_sub2), np.hstack(x_sub3), np.hstack(x_sub4)\n",
    "y_sub1, y_sub2, y_sub3, y_sub4 = np.hstack(y_sub1), np.hstack(y_sub2), np.hstack(y_sub3), np.hstack(y_sub4)\n",
    "\n",
    "x_subs = [x_sub1, x_sub2, x_sub3, x_sub4]\n",
    "y_subs = [y_sub1, y_sub2, y_sub3, y_sub4]"
   ]
  },
  {
   "cell_type": "markdown",
   "metadata": {
    "id": "7oxMM0mQJnkW"
   },
   "source": [
    "1. Incremental learning"
   ]
  },
  {
   "cell_type": "code",
   "execution_count": 4,
   "metadata": {},
   "outputs": [
    {
     "name": "stdout",
     "output_type": "stream",
     "text": [
      "Accuracy: 57.69%\n",
      "Peak memory usage: 13.165446 MB\n",
      "Execution Time: 0.18494692 seconds\n"
     ]
    }
   ],
   "source": [
    "import time\n",
    "\n",
    "def ipca_nn(n_components, x_subs, y_subs, x_test):\n",
    "  # Measure memory usage and execution time\n",
    "\n",
    "    ipca = IncrementalPCA(n_components = n_components)\n",
    "\n",
    "    run_time = 0\n",
    "     \n",
    "    tracemalloc.start() \n",
    "    for subset in x_subs:\n",
    "        start_time = time.perf_counter()\n",
    "\n",
    "        ipca.partial_fit(subset.T)\n",
    "\n",
    "        end_time = time.perf_counter()\n",
    "        run_time += end_time - start_time\n",
    "\n",
    "    current_memory, peak_memory = tracemalloc.get_traced_memory()\n",
    "    tracemalloc.stop()\n",
    "\n",
    "    # Project train data\n",
    "    W_train = np.vstack([ipca.transform(subset.T) for subset in x_subs])\n",
    "\n",
    "    # Train NN model\n",
    "    nn = KNeighborsClassifier(n_neighbors=1, metric='manhattan')\n",
    "    y_train_combined = np.concatenate([y_subs[0].T, y_subs[1].T, y_subs[2].T, y_subs[3].T])\n",
    "    nn.fit(W_train, y_train_combined.ravel())\n",
    "\n",
    "    # Project test data and predict\n",
    "    W_test = ipca.transform(x_test.T).T\n",
    "    y_pred = nn.predict(W_test.T)\n",
    "\n",
    "    return y_pred, run_time, peak_memory\n",
    "\n",
    "ipca_y_pred, ipca_run_time, ipca_peak_memory = ipca_nn(20, x_subs, y_subs, x_test)\n",
    "\n",
    "accuracy = accuracy_score(y_test.T, ipca_y_pred)\n",
    "print(f\"Accuracy: {accuracy * 100:.2f}%\")\n",
    "print(f\"Peak memory usage: {ipca_peak_memory / 10**6} MB\")\n",
    "print(f\"Execution Time: {ipca_run_time:.8f} seconds\")"
   ]
  },
  {
   "cell_type": "code",
   "execution_count": 5,
   "metadata": {},
   "outputs": [],
   "source": [
    "# def ipca_nn(n_components, x_subs, y_subs, x_test):\n",
    "#   # Measure memory usage and execution time\n",
    "#   tracemalloc.start() \n",
    "#   start_time = timeit.default_timer()  # Start timing\n",
    "\n",
    "#   ipca = IncrementalPCA(n_components = n_components)\n",
    "  \n",
    "#   for subset in x_subs:\n",
    "#     ipca.partial_fit(subset.T)\n",
    "\n",
    "#   current_memory, peak_memory = tracemalloc.get_traced_memory()\n",
    "#   tracemalloc.stop()\n",
    "#   end_time = timeit.default_timer()  # Stop timing\n",
    "#   run_time = end_time - start_time\n",
    "  \n",
    "#   # Project train data\n",
    "#   W_train_sub1 = ipca.transform(x_subs[0].T).T\n",
    "#   W_train_sub2 = ipca.transform(x_subs[1].T).T\n",
    "#   W_train_sub3 = ipca.transform(x_subs[2].T).T\n",
    "#   W_train_sub4 = ipca.transform(x_subs[3].T).T\n",
    "#   W_train = np.vstack((W_train_sub1.T, W_train_sub2.T, W_train_sub3.T, W_train_sub4.T))\n",
    "\n",
    "#   # Train NN model\n",
    "#   nn = KNeighborsClassifier(n_neighbors=1, metric='manhattan')\n",
    "#   y_train_combined = np.concatenate([y_subs[0].T, y_subs[1].T, y_subs[2].T, y_subs[3].T])\n",
    "#   nn.fit(W_train, y_train_combined.ravel())\n",
    "\n",
    "#   # Project test data and predict\n",
    "#   W_test = ipca.transform(x_test.T).T\n",
    "#   y_pred = nn.predict(W_test.T)\n",
    "\n",
    "#   return y_pred, run_time, current_memory, peak_memory\n",
    "\n",
    "# ipca_y_pred, ipca_run_time, ipca_current_memory, ipca_peak_memory = ipca_nn(20, x_subs, y_subs, x_test)\n",
    "\n",
    "# accuracy = accuracy_score(y_test.T, ipca_y_pred)\n",
    "# print(f\"Accuracy: {accuracy * 100:.2f}%\")\n",
    "# print(f\"Current memory usage: {ipca_current_memory / 10**6} MB\")\n",
    "# print(f\"Peak memory usage: {ipca_peak_memory / 10**6} MB\")\n",
    "# print(f\"Execution Time: {ipca_run_time:.8f} seconds\")"
   ]
  },
  {
   "cell_type": "markdown",
   "metadata": {
    "id": "ZkNdXRFUJsDW"
   },
   "source": [
    "Define pca and nn classifier"
   ]
  },
  {
   "cell_type": "code",
   "execution_count": 6,
   "metadata": {},
   "outputs": [],
   "source": [
    "def pca_nn(n_components, x_train, y_train, x_test):\n",
    "  # Measure memory usage and execution time\n",
    "  tracemalloc.start() \n",
    "  start_time = time.perf_counter()\n",
    "\n",
    "  pca = PCA(n_components = n_components)\n",
    "  pca.fit(x_train.T)\n",
    "\n",
    "  current_memory, peak_memory = tracemalloc.get_traced_memory()\n",
    "  tracemalloc.stop()\n",
    "  end_time = time.perf_counter()\n",
    "\n",
    "  run_time = end_time - start_time\n",
    "\n",
    "  # Project train data\n",
    "  W_train = pca.transform(x_train.T).T\n",
    "\n",
    "  # Train NN model\n",
    "  nn = KNeighborsClassifier(n_neighbors=1, metric='manhattan')\n",
    "  nn.fit(W_train.T, y_train.reshape(-1))\n",
    "\n",
    "  # Project test data and predict\n",
    "  W_test = pca.transform(x_test.T).T\n",
    "  y_pred = nn.predict(W_test.T)\n",
    "\n",
    "  return y_pred, run_time, peak_memory"
   ]
  },
  {
   "cell_type": "markdown",
   "metadata": {},
   "source": [
    "2. Batch PCA"
   ]
  },
  {
   "cell_type": "code",
   "execution_count": 7,
   "metadata": {},
   "outputs": [
    {
     "name": "stdout",
     "output_type": "stream",
     "text": [
      "Accuracy : 63.46%\n",
      "Peak memory usage: 11.245985 MB\n",
      "Execution Time: 0.05512967 seconds\n"
     ]
    }
   ],
   "source": [
    "batch_y_pred, batch_run_time, batch_peak_memory = pca_nn(30, x_train, y_train, x_test)\n",
    "\n",
    "accuracy = accuracy_score(y_test.T, batch_y_pred)\n",
    "print(f\"Accuracy : {accuracy * 100:.2f}%\")\n",
    "print(f\"Peak memory usage: {batch_peak_memory / 10**6} MB\")\n",
    "print(f\"Execution Time: {batch_run_time:.8f} seconds\")"
   ]
  },
  {
   "cell_type": "markdown",
   "metadata": {
    "id": "JFSD8yl-MOLq"
   },
   "source": [
    "3. PCA with first train subset"
   ]
  },
  {
   "cell_type": "code",
   "execution_count": 8,
   "metadata": {},
   "outputs": [
    {
     "name": "stdout",
     "output_type": "stream",
     "text": [
      "Accuracy : 23.08%\n",
      "Peak memory usage: 3.756922 MB\n",
      "Execution Time: 0.01483571 seconds\n"
     ]
    }
   ],
   "source": [
    "# Input of pca_nn: x_sub1\n",
    "sub1_y_pred, sub1_run_time, sub1_peak_memory = pca_nn(15, x_sub1, y_sub1, x_test)\n",
    "\n",
    "accuracy = accuracy_score(y_test.T, sub1_y_pred)\n",
    "print(f\"Accuracy : {accuracy * 100:.2f}%\")\n",
    "print(f\"Peak memory usage: {sub1_peak_memory / 10**6} MB\")\n",
    "print(f\"Execution Time: {sub1_run_time:.8f} seconds\")"
   ]
  },
  {
   "cell_type": "markdown",
   "metadata": {},
   "source": [
    "Show result"
   ]
  },
  {
   "cell_type": "code",
   "execution_count": 9,
   "metadata": {},
   "outputs": [],
   "source": [
    "# Get Average Result\n",
    "def avg_results(num_iter, func, num_bases, x_train, y_train, x_test, y_test):\n",
    "    accuracy_avg, run_time_avg, peak_memory_avg = 0,0,0\n",
    "\n",
    "    for i in range(num_iter):\n",
    "        y_pred, run_time, peak_memory = func(num_bases, x_train, y_train, x_test)\n",
    "        accuracy = accuracy_score(y_test.T, y_pred) * 100\n",
    "        \n",
    "        accuracy_avg += accuracy\n",
    "        run_time_avg += run_time\n",
    "        peak_memory_avg += peak_memory\n",
    "    \n",
    "    accuracy_avg /= num_iter\n",
    "    run_time_avg /= num_iter\n",
    "    peak_memory_avg /= num_iter\n",
    "\n",
    "    return accuracy_avg, run_time_avg,  peak_memory_avg"
   ]
  },
  {
   "cell_type": "code",
   "execution_count": 10,
   "metadata": {},
   "outputs": [],
   "source": [
    "num_base_vecs = []\n",
    "\n",
    "ipca_acc_result = []\n",
    "batch_acc_result = []\n",
    "sub1_acc_result = []\n",
    "\n",
    "ipca_runtime_result = []\n",
    "batch_runtime_result = []\n",
    "sub1_runtime_result = []\n",
    "\n",
    "ipca_peak_mem_result = []\n",
    "batch_peak_mem_result = []\n",
    "sub1_peak_mem_result = []\n",
    "\n",
    "\n",
    "for i in range(1, 11):\n",
    "    num_bases = 5*i\n",
    "    num_base_vecs.append(num_bases)\n",
    "    \n",
    "    # Get each PCA result\n",
    "    ipca_accuracy, ipca_run_time, ipca_peak_memory = avg_results(10, ipca_nn, num_bases, x_subs, y_subs, x_test, y_test)\n",
    "    batch_accuracy, batch_run_time, batch_peak_memory = avg_results(10, pca_nn, num_bases, x_train, y_train, x_test, y_test)\n",
    "    sub1_accuracy, sub1_run_time, sub1_peak_memory = avg_results(10, pca_nn, num_bases, x_sub1, y_sub1, x_test, y_test)\n",
    "\n",
    "    # accuracy arrays\n",
    "    ipca_acc_result.append(ipca_accuracy)\n",
    "    batch_acc_result.append(batch_accuracy)\n",
    "    sub1_acc_result.append(sub1_accuracy)\n",
    "\n",
    "    # runtime arrays -> seconds\n",
    "    ipca_runtime_result.append(ipca_run_time)\n",
    "    batch_runtime_result.append(batch_run_time)\n",
    "    sub1_runtime_result.append(sub1_run_time)\n",
    "    \n",
    "\n",
    "    # peak memory arrays -> Mega Bite (MB)\n",
    "    ipca_peak_mem_result.append(ipca_peak_memory / 10**6)\n",
    "    batch_peak_mem_result.append(batch_peak_memory / 10**6)\n",
    "    sub1_peak_mem_result.append(sub1_peak_memory / 10**6)"
   ]
  },
  {
   "cell_type": "code",
   "execution_count": 11,
   "metadata": {},
   "outputs": [
    {
     "data": {
      "image/png": "[encoded data removed]",
      "text/plain": [
       "<Figure size 1440x576 with 3 Axes>"
      ]
     },
     "metadata": {
      "needs_background": "light"
     },
     "output_type": "display_data"
    }
   ],
   "source": [
    "fig, axes = plt.subplots(1, 3, figsize=(20, 8))\n",
    "\n",
    "# Plot accuracy on the first subplot\n",
    "axes[0].plot(num_base_vecs, ipca_acc_result, label='Incremental PCA', marker='s', linestyle='-', color='b')\n",
    "axes[0].plot(num_base_vecs, batch_acc_result, label='Batch PCA', marker='o', linestyle='-', color='g')\n",
    "axes[0].plot(num_base_vecs, sub1_acc_result, label='Sub1 PCA', marker='x', linestyle='-', color='r')\n",
    "axes[0].set_xlabel('Number of base vectors')\n",
    "axes[0].set_ylabel('Accuracy (%)')\n",
    "axes[0].set_title('Accuracy over number of base vectors')\n",
    "axes[0].legend()\n",
    "axes[0].grid(True)\n",
    "\n",
    "# Plot runtime on the second subplot\n",
    "axes[1].plot(num_base_vecs, ipca_runtime_result, label='Incremental PCA', marker='s', linestyle='-', color='b')\n",
    "axes[1].plot(num_base_vecs, batch_runtime_result, label='Batch PCA', marker='o', linestyle='-', color='g')\n",
    "axes[1].plot(num_base_vecs, sub1_runtime_result, label='Sub1 PCA', marker='x', linestyle='-', color='r')\n",
    "axes[1].set_xlabel('Number of base vectors')\n",
    "axes[1].set_ylabel('Runtime (seconds)')  # Customize based on your runtime units\n",
    "axes[1].set_title('Runtime over number of base vectors')\n",
    "axes[1].legend()\n",
    "axes[1].grid(True)\n",
    "\n",
    "# Plot Peak memory usage on third subplot\n",
    "axes[2].plot(num_base_vecs, ipca_peak_mem_result, label='Incremental PCA', marker='s', linestyle='-', color='b')\n",
    "axes[2].plot(num_base_vecs, batch_peak_mem_result, label='Batch PCA', marker='o', linestyle='-', color='g')\n",
    "axes[2].plot(num_base_vecs, sub1_peak_mem_result, label='Sub1 PCA', marker='x', linestyle='-', color='r')\n",
    "axes[2].set_xlabel('Number of base vectors')\n",
    "axes[2].set_ylabel('Memory (MB)')  # Customize based on your runtime units\n",
    "axes[2].set_title('Peak memory usage over number of base vectors')\n",
    "axes[2].legend()\n",
    "axes[2].grid(True)\n",
    "\n",
    "# Display the combined plot\n",
    "plt.tight_layout()  # Adjust layout for better spacing\n",
    "plt.show()"
   ]
  },
  {
   "cell_type": "markdown",
   "metadata": {},
   "source": [
    "Check for large datasize"
   ]
  },
  {
   "cell_type": "code",
   "execution_count": 12,
   "metadata": {},
   "outputs": [
    {
     "name": "stdout",
     "output_type": "stream",
     "text": [
      "Data Size: 10000, Batch PCA Time: 0.16 sec, Incremental PCA Time: 0.10 sec\n",
      "Data Size: 20000, Batch PCA Time: 0.29 sec, Incremental PCA Time: 0.21 sec\n",
      "Data Size: 30000, Batch PCA Time: 0.42 sec, Incremental PCA Time: 0.40 sec\n",
      "Data Size: 40000, Batch PCA Time: 0.59 sec, Incremental PCA Time: 0.44 sec\n",
      "Data Size: 50000, Batch PCA Time: 0.69 sec, Incremental PCA Time: 0.53 sec\n",
      "Data Size: 100000, Batch PCA Time: 1.42 sec, Incremental PCA Time: 1.12 sec\n"
     ]
    }
   ],
   "source": [
    "import numpy as np\n",
    "from sklearn.decomposition import PCA, IncrementalPCA\n",
    "import time\n",
    "import matplotlib.pyplot as plt\n",
    "\n",
    "# Parameters\n",
    "data_sizes = [10000, 20000, 30000, 40000, 50000, 100000]\n",
    "n_features = 50\n",
    "n_components = 10\n",
    "batch_size = 10000\n",
    "\n",
    "runtime_batch_pca = []\n",
    "runtime_incremental_pca = []\n",
    "peak_memory_batch = []\n",
    "peak_memory_ipca = []\n",
    "\n",
    "for size in data_sizes:\n",
    "    data = np.random.rand(size, n_features)\n",
    "    \n",
    "    # Measure runtime for Batch PCA\n",
    "    tracemalloc.start()\n",
    "    start_time = time.process_time()\n",
    "    \n",
    "    pca = PCA(n_components=n_components)\n",
    "    pca.fit(data)\n",
    "\n",
    "    current_memory, peak_memory = tracemalloc.get_traced_memory()\n",
    "    runtime_batch_pca.append(time.process_time() - start_time)\n",
    "    tracemalloc.stop()\n",
    "    peak_memory_batch.append(peak_memory/(1024**2))\n",
    "    \n",
    "    tracemalloc.start()\n",
    "    start_time = time.process_time()\n",
    "    inc_pca = IncrementalPCA(n_components=n_components)\n",
    "    for start in range(0, size, batch_size):\n",
    "        end = min(start + batch_size, size)\n",
    "        inc_pca.partial_fit(data[start:end])\n",
    "    runtime_incremental_pca.append(time.process_time() - start_time)\n",
    "    current_memory, peak_memory = tracemalloc.get_traced_memory()\n",
    "    tracemalloc.stop()\n",
    "    peak_memory_ipca.append(peak_memory/(1024**2))\n",
    "\n",
    "    print(f\"Data Size: {size}, Batch PCA Time: {runtime_batch_pca[-1]:.2f} sec, Incremental PCA Time: {runtime_incremental_pca[-1]:.2f} sec\")\n"
   ]
  },
  {
   "cell_type": "markdown",
   "metadata": {},
   "source": []
  },
  {
   "cell_type": "code",
   "execution_count": 13,
   "metadata": {},
   "outputs": [
    {
     "data": {
      "image/png": "[encoded data removed]",
      "text/plain": [
       "<Figure size 1440x576 with 2 Axes>"
      ]
     },
     "metadata": {
      "needs_background": "light"
     },
     "output_type": "display_data"
    }
   ],
   "source": [
    "fig, axes = plt.subplots(1, 2, figsize=(20, 8))\n",
    "\n",
    "axes[0].plot(data_sizes, runtime_incremental_pca, label='Incremental PCA', marker='s', linestyle='-', color='b')\n",
    "axes[0].plot(data_sizes, runtime_batch_pca, label='Batch PCA', marker='o', linestyle='-', color='g')\n",
    "axes[0].set_xlabel('Number of Samples')\n",
    "axes[0].set_ylabel('Runtime (second)')\n",
    "axes[0].set_title(\"Runtime Comparison of Batch PCA vs Incremental PCA Across Different Data Sizes\")\n",
    "axes[0].legend()\n",
    "axes[0].grid(True)\n",
    "\n",
    "axes[1].plot(data_sizes, peak_memory_ipca, label='Incremental PCA', marker='s', linestyle='-', color='b')\n",
    "axes[1].plot(data_sizes, peak_memory_batch, label='Batch PCA', marker='o', linestyle='-', color='g')\n",
    "axes[1].set_xlabel('Number of Samples')\n",
    "axes[1].set_ylabel('Memory (MB)')\n",
    "axes[1].set_title(\"Memory Usage Comparison of Batch PCA vs Incremental PCA Across Different Data Sizes\")\n",
    "axes[1].legend()\n",
    "axes[1].grid(True)\n",
    "\n",
    "# Display the combined plot\n",
    "plt.tight_layout()  # Adjust layout for better spacing\n",
    "plt.show()"
   ]
  },
  {
   "cell_type": "code",
   "execution_count": 14,
   "metadata": {},
   "outputs": [
    {
     "name": "stdout",
     "output_type": "stream",
     "text": [
      "Peak memory usage: 7.220727 MB\n",
      "Execution Time: 0.56797800 seconds\n"
     ]
    }
   ],
   "source": [
    "def pca_iter_time(n_components, x_subs):\n",
    "  # Measure memory usage and execution time\n",
    "\n",
    "    pca = PCA(n_components = n_components)\n",
    "\n",
    "    run_time = 0\n",
    "    tracemalloc.start() \n",
    "    for subset in x_subs:\n",
    "        start_time = time.process_time()\n",
    "\n",
    "        pca.fit(subset.T)\n",
    "\n",
    "        end_time = time.process_time()\n",
    "        run_time += end_time - start_time\n",
    "\n",
    "    current_memory, peak_memory = tracemalloc.get_traced_memory()\n",
    "    tracemalloc.stop()\n",
    "\n",
    "    return run_time, peak_memory\n",
    "\n",
    "run_time, memory = pca_iter_time(50, x_subs)\n",
    "\n",
    "print(f\"Peak memory usage: {memory / 10**6} MB\")\n",
    "print(f\"Execution Time: {run_time:.8f} seconds\")"
   ]
  },
  {
   "cell_type": "code",
   "execution_count": 15,
   "metadata": {},
   "outputs": [
    {
     "name": "stdout",
     "output_type": "stream",
     "text": [
      "Peak memory usage: 12.562882 MB\n",
      "Execution Time: 0.29545700 seconds\n"
     ]
    }
   ],
   "source": [
    "def pca_time(n_components, x_train):\n",
    "    pca = PCA(n_components = n_components)\n",
    "\n",
    "    run_time = 0\n",
    "    tracemalloc.start()\n",
    "    start_time = time.process_time()\n",
    "\n",
    "    pca.fit(x_train.T)\n",
    "\n",
    "    end_time = time.process_time()\n",
    "    run_time += end_time - start_time\n",
    "\n",
    "    current_memory, peak_memory = tracemalloc.get_traced_memory()\n",
    "    tracemalloc.stop()\n",
    "\n",
    "    return run_time, peak_memory\n",
    "\n",
    "run_time, memory = pca_time(50, x_train)\n",
    "\n",
    "print(f\"Peak memory usage: {memory / 10**6} MB\")\n",
    "print(f\"Execution Time: {run_time:.8f} seconds\")"
   ]
  },
  {
   "cell_type": "markdown",
   "metadata": {},
   "source": [
    "Reconstruction Error"
   ]
  },
  {
   "cell_type": "code",
   "execution_count": 16,
   "metadata": {},
   "outputs": [
    {
     "name": "stdout",
     "output_type": "stream",
     "text": [
      "Reconstruction Error of Incremental PCA with 15 base eigenvectors (MAE): 16.125\n",
      "Reconstruction Error of Batch PCA with 15 base eigenvectors (MAE): 16.025\n",
      "Reconstruction Error of Sub1 PCA with 15 base eigenvectors (MAE): 19.372\n"
     ]
    }
   ],
   "source": [
    "def pca_recon_error(n_components, x_train, x_test):\n",
    "  pca = PCA(n_components = n_components)\n",
    "  pca.fit(x_train.T)\n",
    "\n",
    "  W_test = pca.transform(x_test.T).T\n",
    "  test_recon = pca.inverse_transform(W_test.T).T\n",
    "\n",
    "  rec_err = np.mean(np.abs(x_test - test_recon))\n",
    "\n",
    "  return rec_err\n",
    "\n",
    "def ipca_recon_error(n_components, x_subs, x_test):\n",
    "  ipca = IncrementalPCA(n_components = n_components)\n",
    "  for subset in x_subs:\n",
    "      ipca.partial_fit(subset.T)\n",
    "\n",
    "  W_test = ipca.transform(x_test.T).T\n",
    "  test_recon = ipca.inverse_transform(W_test.T).T\n",
    "\n",
    "  rec_err = np.mean(np.abs(x_test - test_recon))\n",
    "\n",
    "  return rec_err\n",
    "\n",
    "num_bases = 15\n",
    "\n",
    "ipca_rec_err = ipca_recon_error(num_bases, x_subs, x_test)\n",
    "batch_rec_err = pca_recon_error(num_bases, x_train, x_test)\n",
    "sub1_rec_err = pca_recon_error(num_bases, x_sub1, x_test)\n",
    "\n",
    "\n",
    "print(f\"Reconstruction Error of Incremental PCA with {num_bases} base eigenvectors (MAE): {ipca_rec_err:.3f}\")\n",
    "print(f\"Reconstruction Error of Batch PCA with {num_bases} base eigenvectors (MAE): {batch_rec_err:.3f}\")\n",
    "print(f\"Reconstruction Error of Sub1 PCA with {num_bases} base eigenvectors (MAE): {sub1_rec_err:.3f}\")"
   ]
  },
  {
   "cell_type": "markdown",
   "metadata": {},
   "source": [
    "Method in the lecture"
   ]
  },
  {
   "cell_type": "code",
   "execution_count": 17,
   "metadata": {},
   "outputs": [
    {
     "data": {
      "text/plain": [
       "(2576, 30)"
      ]
     },
     "execution_count": 17,
     "metadata": {},
     "output_type": "execute_result"
    }
   ],
   "source": [
    "import numpy as np\n",
    "from sklearn.decomposition import PCA\n",
    "from scipy.linalg import orth\n",
    "\n",
    "# Step 1: Perform PCA on the original and new data separately\n",
    "pca1 = PCA(n_components=30)\n",
    "pca2 = PCA(n_components=30)\n",
    "pca3 = PCA(n_components=30)\n",
    "pca4 = PCA(n_components=30)\n",
    "\n",
    "P1 = pca1.fit(x_sub1.T).components_.T\n",
    "P2 = pca2.fit(x_sub2.T).components_.T\n",
    "P3 = pca3.fit(x_sub3.T).components_.T\n",
    "P4 = pca4.fit(x_sub4.T).components_.T\n",
    "\n",
    "# Step 1: Stack P1 and P2 column-wise to form the combined matrix\n",
    "combined_matrix = np.hstack((P1, P2))\n",
    "Phi = orth(combined_matrix) \n",
    "overlap_matrix = np.dot(P1.T, Phi)\n",
    "U, _, Vt = np.linalg.svd(overlap_matrix)\n",
    "min_dim = min(U.shape[1], Vt.shape[0])\n",
    "U = U[:, :min_dim]\n",
    "Vt = Vt[:min_dim, :]\n",
    "R = np.dot(U, Vt)\n",
    "P_new = np.dot(Phi, R.T)\n",
    "\n",
    "combined_matrix = np.hstack((P_new, P3))\n",
    "Phi = orth(combined_matrix) \n",
    "overlap_matrix = np.dot(P_new.T, Phi)\n",
    "U, _, Vt = np.linalg.svd(overlap_matrix)\n",
    "min_dim = min(U.shape[1], Vt.shape[0])\n",
    "U = U[:, :min_dim]\n",
    "Vt = Vt[:min_dim, :]\n",
    "R = np.dot(U, Vt)\n",
    "P_new = np.dot(Phi, R.T)\n",
    "\n",
    "combined_matrix = np.hstack((P_new, P4))\n",
    "Phi = orth(combined_matrix) \n",
    "overlap_matrix = np.dot(P_new.T, Phi)\n",
    "U, _, Vt = np.linalg.svd(overlap_matrix)\n",
    "min_dim = min(U.shape[1], Vt.shape[0])\n",
    "U = U[:, :min_dim]\n",
    "Vt = Vt[:min_dim, :]\n",
    "R = np.dot(U, Vt)\n",
    "P_new = np.dot(Phi, R.T)\n",
    "\n",
    "P_new.shape\n"
   ]
  },
  {
   "cell_type": "code",
   "execution_count": null,
   "metadata": {},
   "outputs": [],
   "source": [
    "# S_a = (1/N)AA^T\n",
    "S_a = np.matmul(A, A.T) / A.shape[1]\n",
    "\n",
    "# S_a eigendecomposition\n",
    "eigvals_a, eigvecs_a = np.linalg.eigh(S_a)\n",
    "\n",
    "sorted_indices = np.argsort(eigvals_a)[::-1]\n",
    "\n",
    "eigvals_a = eigvals_a[sorted_indices]\n",
    "eigvecs_a = eigvecs_a[:, sorted_indices]\n",
    "\n",
    "# Plot the arrays\n",
    "plt.plot(eigvals_a, label=\"S_a = (1/N)AA^T\")\n",
    "\n",
    "# Add title and labels\n",
    "plt.title(\"Eigenvalues in descending order\")\n",
    "plt.xlabel(\"Index\")\n",
    "plt.ylabel(\"Eigenvalues\")\n",
    "\n",
    "# Add a legend to distinguish the arrays\n",
    "plt.legend()\n",
    "\n",
    "# plt.figure(figsize=(4,6))\n",
    "\n",
    "# Show the plot\n",
    "plt.show()"
   ]
  },
  {
   "cell_type": "code",
   "execution_count": 25,
   "metadata": {},
   "outputs": [
    {
     "data": {
      "text/plain": [
       "(2576, 30)"
      ]
     },
     "execution_count": 25,
     "metadata": {},
     "output_type": "execute_result"
    }
   ],
   "source": [
    "import numpy as np\n",
    "from sklearn.decomposition import PCA\n",
    "from scipy.linalg import orth\n",
    "\n",
    "# Step 1: Perform PCA on the original and new data separately\n",
    "pca1 = PCA(n_components=15)\n",
    "pca2 = PCA(n_components=15)\n",
    "pca3 = PCA(n_components=15)\n",
    "pca4 = PCA(n_components=15)\n",
    "\n",
    "P1 = pca1.fit(x_sub1.T).components_.T\n",
    "P2 = pca2.fit(x_sub2.T).components_.T\n",
    "P3 = pca3.fit(x_sub3.T).components_.T\n",
    "P4 = pca4.fit(x_sub4.T).components_.T\n",
    "\n",
    "# Step 1: Stack P1 and P2 column-wise to form the combined matrix\n",
    "combined_matrix = np.hstack((P1, P2))\n",
    "Phi = orth(combined_matrix) \n",
    "P_new = Phi[:, :30]\n",
    "\n",
    "combined_matrix = np.hstack((P_new, P3))\n",
    "Phi = orth(combined_matrix) \n",
    "P_new = Phi[:, :30]\n",
    "\n",
    "combined_matrix = np.hstack((P_new, P4))\n",
    "Phi = orth(combined_matrix) \n",
    "P_new = Phi[:, :30]\n",
    "\n",
    "P_new.shape\n"
   ]
  },
  {
   "cell_type": "code",
   "execution_count": 26,
   "metadata": {},
   "outputs": [
    {
     "name": "stdout",
     "output_type": "stream",
     "text": [
      "Reconstruction Error with eigenvectors (MAE): 14.952733831790411\n"
     ]
    }
   ],
   "source": [
    "x_train_bar = np.average(x_train, axis=1).reshape(-1,1)\n",
    "\n",
    "A_test = x_test - x_train_bar\n",
    "W_test = np.matmul(P_new.T, A_test)\n",
    "x_test_rec = x_train_bar + np.matmul(P_new, W_test)\n",
    "\n",
    "rec_err = np.mean(np.abs(x_test - x_test_rec))\n",
    "print(f\"Reconstruction Error with eigenvectors (MAE): {rec_err}\")"
   ]
  },
  {
   "cell_type": "code",
   "execution_count": 27,
   "metadata": {},
   "outputs": [
    {
     "name": "stdout",
     "output_type": "stream",
     "text": [
      "Accuracy: 60.58%\n"
     ]
    }
   ],
   "source": [
    "from sklearn.neighbors import KNeighborsClassifier\n",
    "from sklearn.metrics import accuracy_score\n",
    "\n",
    "# Define the 1-Nearest Neighbor classifier with L1 distance (Manhattan distance)\n",
    "nn = KNeighborsClassifier(n_neighbors=1, metric='manhattan')\n",
    "\n",
    "# projection of training images\n",
    "x_train_proj = np.matmul(P_new.T, x_train - x_train_bar)\n",
    "x_test_proj = np.matmul(P_new.T, x_test - x_train_bar)\n",
    "\n",
    "nn.fit(x_train_proj.T, y_train.reshape(-1))\n",
    "\n",
    "# Model prediction\n",
    "y_pred = nn.predict(x_test_proj.T)\n",
    "\n",
    "\n",
    "# Calculate Accuracy\n",
    "accuracy = accuracy_score(y_test.T, y_pred)\n",
    "print(f\"Accuracy: {accuracy * 100:.2f}%\")"
   ]
  },
  {
   "cell_type": "code",
   "execution_count": 21,
   "metadata": {},
   "outputs": [
    {
     "name": "stdout",
     "output_type": "stream",
     "text": [
      "Accuracy: 50.96%\n"
     ]
    }
   ],
   "source": [
    "from sklearn.neighbors import KNeighborsClassifier\n",
    "from sklearn.metrics import accuracy_score\n",
    "\n",
    "# Define the 1-Nearest Neighbor classifier with L1 distance (Manhattan distance)\n",
    "nn = KNeighborsClassifier(n_neighbors=1, metric='manhattan')\n",
    "\n",
    "# projection of training images\n",
    "x_train_proj = np.matmul(P1.T, x_train - x_train_bar)\n",
    "x_test_proj = np.matmul(P1.T, x_test - x_train_bar)\n",
    "\n",
    "nn.fit(x_train_proj.T, y_train.reshape(-1))\n",
    "\n",
    "# Model prediction\n",
    "y_pred = nn.predict(x_test_proj.T)\n",
    "\n",
    "\n",
    "# Calculate Accuracy\n",
    "accuracy = accuracy_score(y_test.T, y_pred)\n",
    "print(f\"Accuracy: {accuracy * 100:.2f}%\")"
   ]
  },
  {
   "cell_type": "code",
   "execution_count": null,
   "metadata": {},
   "outputs": [],
   "source": []
  },
  {
   "cell_type": "code",
   "execution_count": null,
   "metadata": {},
   "outputs": [],
   "source": []
  }
 ],
 "metadata": {
  "colab": {
   "provenance": []
  },
  "kernelspec": {
   "display_name": "base",
   "language": "python",
   "name": "python3"
  },
  "language_info": {
   "codemirror_mode": {
    "name": "ipython",
    "version": 3
   },
   "file_extension": ".py",
   "mimetype": "text/x-python",
   "name": "python",
   "nbconvert_exporter": "python",
   "pygments_lexer": "ipython3",
   "version": "3.9.12"
  }
 },
 "nbformat": 4,
 "nbformat_minor": 0
}
